{
 "cells": [
  {
   "cell_type": "markdown",
   "metadata": {
    "id": "eO1PLYl6jfXK"
   },
   "source": [
    "# Desafio de Classificação\n",
    "\n"
   ]
  },
  {
   "cell_type": "markdown",
   "metadata": {},
   "source": [
    "**Nome:** Julia Carolina Frare Peixoto\n",
    "\n",
    "**nUSP:** 10734727\n",
    "\n",
    "**Link do repositório:** https://github.com/juliafrare/SCC0277"
   ]
  },
  {
   "cell_type": "markdown",
   "metadata": {
    "id": "Tmg_qX8jjXyl"
   },
   "source": [
    "## Descrição do problema\n",
    "\n",
    "O problema consiste em tentar prever se um hóspede irá cancelar sua reserva em um hotel, com base no seguinte [dataset](https://www.kaggle.com/datasets/ahsan81/hotel-reservations-classification-dataset?resource=download). As colunas do dataset são as seguintes:\n",
    "\n",
    "- **Booking_ID:** id único de cada reserva\n",
    "- **no_of_adults:** número de adultos\n",
    "- **no_of_children:** número de crianças\n",
    "- **no_of_weekend_nights:** número de noites agendadas durante um fim de semana\n",
    "- **no_of_week_nights:** número de noites agendadas durante um dia de semana\n",
    "- **type_of_meal_plan:** tipo de plano de refeição escolhido pelo hóspede\n",
    "- **required_car_parking_space:** o hóspede reservou uma vaga de estacionamento?\n",
    "- **room_type_reserved:** tipo de quarto reservado pelo hóspede\n",
    "- **lead_time:** número de dias entre o agendamento e a data de chegada\n",
    "- **arrival_year:** ano de chegada\n",
    "- **arrival_month:** mês de chegada\n",
    "- **arrival_day:** dia de chegada\n",
    "- **market_segment_type:** segmento de mercado\n",
    "- **repeated_guest:** o cliente já se hospedou aqui antes?\n",
    "- **no_of_previous_cancellations:** número de cancelamentos anteriores\n",
    "- **no_of_previous_bookings_not_canceled:** número de reservas anteriores que não foram canceladas\n",
    "- **avg_price_per_room:** preço médio por quarto no dia da reserva, preços dos quartos são dinâmicos\n",
    "- **no_of_special_requests:** número de pedidos especiais do hóspede\n",
    "- **booking_status:** indica se o agendamento foi cancelado ou não"
   ]
  },
  {
   "cell_type": "markdown",
   "metadata": {
    "id": "_7HDuYVCunqm"
   },
   "source": [
    "## Análise do dataset e pré-processamento"
   ]
  },
  {
   "cell_type": "code",
   "execution_count": 1,
   "metadata": {
    "id": "ADs61KeRunqo"
   },
   "outputs": [],
   "source": [
    "import pandas as pd\n",
    "import numpy as np\n",
    "import matplotlib.pyplot as plt\n",
    "import io"
   ]
  },
  {
   "cell_type": "code",
   "execution_count": 2,
   "metadata": {
    "colab": {
     "base_uri": "https://localhost:8080/"
    },
    "id": "NT9-RX-fwFQb",
    "outputId": "f4b9898b-af1b-459b-c431-679673d7cd71"
   },
   "outputs": [
    {
     "data": {
      "text/plain": [
       "(36275, 19)"
      ]
     },
     "execution_count": 2,
     "metadata": {},
     "output_type": "execute_result"
    }
   ],
   "source": [
    "# Importando o dataset\n",
    "df = pd.read_csv('HotelReservations.csv')\n",
    "\n",
    "df.shape"
   ]
  },
  {
   "cell_type": "code",
   "execution_count": 3,
   "metadata": {
    "colab": {
     "base_uri": "https://localhost:8080/",
     "height": 488
    },
    "id": "ow4stJXCunqv",
    "outputId": "2ca04a82-933f-4571-f451-042ff88f896f"
   },
   "outputs": [
    {
     "data": {
      "text/html": [
       "<div>\n",
       "<style scoped>\n",
       "    .dataframe tbody tr th:only-of-type {\n",
       "        vertical-align: middle;\n",
       "    }\n",
       "\n",
       "    .dataframe tbody tr th {\n",
       "        vertical-align: top;\n",
       "    }\n",
       "\n",
       "    .dataframe thead th {\n",
       "        text-align: right;\n",
       "    }\n",
       "</style>\n",
       "<table border=\"1\" class=\"dataframe\">\n",
       "  <thead>\n",
       "    <tr style=\"text-align: right;\">\n",
       "      <th></th>\n",
       "      <th>Booking_ID</th>\n",
       "      <th>no_of_adults</th>\n",
       "      <th>no_of_children</th>\n",
       "      <th>no_of_weekend_nights</th>\n",
       "      <th>no_of_week_nights</th>\n",
       "      <th>type_of_meal_plan</th>\n",
       "      <th>required_car_parking_space</th>\n",
       "      <th>room_type_reserved</th>\n",
       "      <th>lead_time</th>\n",
       "      <th>arrival_year</th>\n",
       "      <th>arrival_month</th>\n",
       "      <th>arrival_date</th>\n",
       "      <th>market_segment_type</th>\n",
       "      <th>repeated_guest</th>\n",
       "      <th>no_of_previous_cancellations</th>\n",
       "      <th>no_of_previous_bookings_not_canceled</th>\n",
       "      <th>avg_price_per_room</th>\n",
       "      <th>no_of_special_requests</th>\n",
       "      <th>booking_status</th>\n",
       "    </tr>\n",
       "  </thead>\n",
       "  <tbody>\n",
       "    <tr>\n",
       "      <th>0</th>\n",
       "      <td>INN00001</td>\n",
       "      <td>2</td>\n",
       "      <td>0</td>\n",
       "      <td>1</td>\n",
       "      <td>2</td>\n",
       "      <td>Meal Plan 1</td>\n",
       "      <td>0</td>\n",
       "      <td>Room_Type 1</td>\n",
       "      <td>224</td>\n",
       "      <td>2017</td>\n",
       "      <td>10</td>\n",
       "      <td>2</td>\n",
       "      <td>Offline</td>\n",
       "      <td>0</td>\n",
       "      <td>0</td>\n",
       "      <td>0</td>\n",
       "      <td>65.00</td>\n",
       "      <td>0</td>\n",
       "      <td>Not_Canceled</td>\n",
       "    </tr>\n",
       "    <tr>\n",
       "      <th>1</th>\n",
       "      <td>INN00002</td>\n",
       "      <td>2</td>\n",
       "      <td>0</td>\n",
       "      <td>2</td>\n",
       "      <td>3</td>\n",
       "      <td>Not Selected</td>\n",
       "      <td>0</td>\n",
       "      <td>Room_Type 1</td>\n",
       "      <td>5</td>\n",
       "      <td>2018</td>\n",
       "      <td>11</td>\n",
       "      <td>6</td>\n",
       "      <td>Online</td>\n",
       "      <td>0</td>\n",
       "      <td>0</td>\n",
       "      <td>0</td>\n",
       "      <td>106.68</td>\n",
       "      <td>1</td>\n",
       "      <td>Not_Canceled</td>\n",
       "    </tr>\n",
       "    <tr>\n",
       "      <th>2</th>\n",
       "      <td>INN00003</td>\n",
       "      <td>1</td>\n",
       "      <td>0</td>\n",
       "      <td>2</td>\n",
       "      <td>1</td>\n",
       "      <td>Meal Plan 1</td>\n",
       "      <td>0</td>\n",
       "      <td>Room_Type 1</td>\n",
       "      <td>1</td>\n",
       "      <td>2018</td>\n",
       "      <td>2</td>\n",
       "      <td>28</td>\n",
       "      <td>Online</td>\n",
       "      <td>0</td>\n",
       "      <td>0</td>\n",
       "      <td>0</td>\n",
       "      <td>60.00</td>\n",
       "      <td>0</td>\n",
       "      <td>Canceled</td>\n",
       "    </tr>\n",
       "    <tr>\n",
       "      <th>3</th>\n",
       "      <td>INN00004</td>\n",
       "      <td>2</td>\n",
       "      <td>0</td>\n",
       "      <td>0</td>\n",
       "      <td>2</td>\n",
       "      <td>Meal Plan 1</td>\n",
       "      <td>0</td>\n",
       "      <td>Room_Type 1</td>\n",
       "      <td>211</td>\n",
       "      <td>2018</td>\n",
       "      <td>5</td>\n",
       "      <td>20</td>\n",
       "      <td>Online</td>\n",
       "      <td>0</td>\n",
       "      <td>0</td>\n",
       "      <td>0</td>\n",
       "      <td>100.00</td>\n",
       "      <td>0</td>\n",
       "      <td>Canceled</td>\n",
       "    </tr>\n",
       "    <tr>\n",
       "      <th>4</th>\n",
       "      <td>INN00005</td>\n",
       "      <td>2</td>\n",
       "      <td>0</td>\n",
       "      <td>1</td>\n",
       "      <td>1</td>\n",
       "      <td>Not Selected</td>\n",
       "      <td>0</td>\n",
       "      <td>Room_Type 1</td>\n",
       "      <td>48</td>\n",
       "      <td>2018</td>\n",
       "      <td>4</td>\n",
       "      <td>11</td>\n",
       "      <td>Online</td>\n",
       "      <td>0</td>\n",
       "      <td>0</td>\n",
       "      <td>0</td>\n",
       "      <td>94.50</td>\n",
       "      <td>0</td>\n",
       "      <td>Canceled</td>\n",
       "    </tr>\n",
       "    <tr>\n",
       "      <th>...</th>\n",
       "      <td>...</td>\n",
       "      <td>...</td>\n",
       "      <td>...</td>\n",
       "      <td>...</td>\n",
       "      <td>...</td>\n",
       "      <td>...</td>\n",
       "      <td>...</td>\n",
       "      <td>...</td>\n",
       "      <td>...</td>\n",
       "      <td>...</td>\n",
       "      <td>...</td>\n",
       "      <td>...</td>\n",
       "      <td>...</td>\n",
       "      <td>...</td>\n",
       "      <td>...</td>\n",
       "      <td>...</td>\n",
       "      <td>...</td>\n",
       "      <td>...</td>\n",
       "      <td>...</td>\n",
       "    </tr>\n",
       "    <tr>\n",
       "      <th>36270</th>\n",
       "      <td>INN36271</td>\n",
       "      <td>3</td>\n",
       "      <td>0</td>\n",
       "      <td>2</td>\n",
       "      <td>6</td>\n",
       "      <td>Meal Plan 1</td>\n",
       "      <td>0</td>\n",
       "      <td>Room_Type 4</td>\n",
       "      <td>85</td>\n",
       "      <td>2018</td>\n",
       "      <td>8</td>\n",
       "      <td>3</td>\n",
       "      <td>Online</td>\n",
       "      <td>0</td>\n",
       "      <td>0</td>\n",
       "      <td>0</td>\n",
       "      <td>167.80</td>\n",
       "      <td>1</td>\n",
       "      <td>Not_Canceled</td>\n",
       "    </tr>\n",
       "    <tr>\n",
       "      <th>36271</th>\n",
       "      <td>INN36272</td>\n",
       "      <td>2</td>\n",
       "      <td>0</td>\n",
       "      <td>1</td>\n",
       "      <td>3</td>\n",
       "      <td>Meal Plan 1</td>\n",
       "      <td>0</td>\n",
       "      <td>Room_Type 1</td>\n",
       "      <td>228</td>\n",
       "      <td>2018</td>\n",
       "      <td>10</td>\n",
       "      <td>17</td>\n",
       "      <td>Online</td>\n",
       "      <td>0</td>\n",
       "      <td>0</td>\n",
       "      <td>0</td>\n",
       "      <td>90.95</td>\n",
       "      <td>2</td>\n",
       "      <td>Canceled</td>\n",
       "    </tr>\n",
       "    <tr>\n",
       "      <th>36272</th>\n",
       "      <td>INN36273</td>\n",
       "      <td>2</td>\n",
       "      <td>0</td>\n",
       "      <td>2</td>\n",
       "      <td>6</td>\n",
       "      <td>Meal Plan 1</td>\n",
       "      <td>0</td>\n",
       "      <td>Room_Type 1</td>\n",
       "      <td>148</td>\n",
       "      <td>2018</td>\n",
       "      <td>7</td>\n",
       "      <td>1</td>\n",
       "      <td>Online</td>\n",
       "      <td>0</td>\n",
       "      <td>0</td>\n",
       "      <td>0</td>\n",
       "      <td>98.39</td>\n",
       "      <td>2</td>\n",
       "      <td>Not_Canceled</td>\n",
       "    </tr>\n",
       "    <tr>\n",
       "      <th>36273</th>\n",
       "      <td>INN36274</td>\n",
       "      <td>2</td>\n",
       "      <td>0</td>\n",
       "      <td>0</td>\n",
       "      <td>3</td>\n",
       "      <td>Not Selected</td>\n",
       "      <td>0</td>\n",
       "      <td>Room_Type 1</td>\n",
       "      <td>63</td>\n",
       "      <td>2018</td>\n",
       "      <td>4</td>\n",
       "      <td>21</td>\n",
       "      <td>Online</td>\n",
       "      <td>0</td>\n",
       "      <td>0</td>\n",
       "      <td>0</td>\n",
       "      <td>94.50</td>\n",
       "      <td>0</td>\n",
       "      <td>Canceled</td>\n",
       "    </tr>\n",
       "    <tr>\n",
       "      <th>36274</th>\n",
       "      <td>INN36275</td>\n",
       "      <td>2</td>\n",
       "      <td>0</td>\n",
       "      <td>1</td>\n",
       "      <td>2</td>\n",
       "      <td>Meal Plan 1</td>\n",
       "      <td>0</td>\n",
       "      <td>Room_Type 1</td>\n",
       "      <td>207</td>\n",
       "      <td>2018</td>\n",
       "      <td>12</td>\n",
       "      <td>30</td>\n",
       "      <td>Offline</td>\n",
       "      <td>0</td>\n",
       "      <td>0</td>\n",
       "      <td>0</td>\n",
       "      <td>161.67</td>\n",
       "      <td>0</td>\n",
       "      <td>Not_Canceled</td>\n",
       "    </tr>\n",
       "  </tbody>\n",
       "</table>\n",
       "<p>36275 rows × 19 columns</p>\n",
       "</div>"
      ],
      "text/plain": [
       "      Booking_ID  no_of_adults  no_of_children  no_of_weekend_nights  \\\n",
       "0       INN00001             2               0                     1   \n",
       "1       INN00002             2               0                     2   \n",
       "2       INN00003             1               0                     2   \n",
       "3       INN00004             2               0                     0   \n",
       "4       INN00005             2               0                     1   \n",
       "...          ...           ...             ...                   ...   \n",
       "36270   INN36271             3               0                     2   \n",
       "36271   INN36272             2               0                     1   \n",
       "36272   INN36273             2               0                     2   \n",
       "36273   INN36274             2               0                     0   \n",
       "36274   INN36275             2               0                     1   \n",
       "\n",
       "       no_of_week_nights type_of_meal_plan  required_car_parking_space  \\\n",
       "0                      2       Meal Plan 1                           0   \n",
       "1                      3      Not Selected                           0   \n",
       "2                      1       Meal Plan 1                           0   \n",
       "3                      2       Meal Plan 1                           0   \n",
       "4                      1      Not Selected                           0   \n",
       "...                  ...               ...                         ...   \n",
       "36270                  6       Meal Plan 1                           0   \n",
       "36271                  3       Meal Plan 1                           0   \n",
       "36272                  6       Meal Plan 1                           0   \n",
       "36273                  3      Not Selected                           0   \n",
       "36274                  2       Meal Plan 1                           0   \n",
       "\n",
       "      room_type_reserved  lead_time  arrival_year  arrival_month  \\\n",
       "0            Room_Type 1        224          2017             10   \n",
       "1            Room_Type 1          5          2018             11   \n",
       "2            Room_Type 1          1          2018              2   \n",
       "3            Room_Type 1        211          2018              5   \n",
       "4            Room_Type 1         48          2018              4   \n",
       "...                  ...        ...           ...            ...   \n",
       "36270        Room_Type 4         85          2018              8   \n",
       "36271        Room_Type 1        228          2018             10   \n",
       "36272        Room_Type 1        148          2018              7   \n",
       "36273        Room_Type 1         63          2018              4   \n",
       "36274        Room_Type 1        207          2018             12   \n",
       "\n",
       "       arrival_date market_segment_type  repeated_guest  \\\n",
       "0                 2             Offline               0   \n",
       "1                 6              Online               0   \n",
       "2                28              Online               0   \n",
       "3                20              Online               0   \n",
       "4                11              Online               0   \n",
       "...             ...                 ...             ...   \n",
       "36270             3              Online               0   \n",
       "36271            17              Online               0   \n",
       "36272             1              Online               0   \n",
       "36273            21              Online               0   \n",
       "36274            30             Offline               0   \n",
       "\n",
       "       no_of_previous_cancellations  no_of_previous_bookings_not_canceled  \\\n",
       "0                                 0                                     0   \n",
       "1                                 0                                     0   \n",
       "2                                 0                                     0   \n",
       "3                                 0                                     0   \n",
       "4                                 0                                     0   \n",
       "...                             ...                                   ...   \n",
       "36270                             0                                     0   \n",
       "36271                             0                                     0   \n",
       "36272                             0                                     0   \n",
       "36273                             0                                     0   \n",
       "36274                             0                                     0   \n",
       "\n",
       "       avg_price_per_room  no_of_special_requests booking_status  \n",
       "0                   65.00                       0   Not_Canceled  \n",
       "1                  106.68                       1   Not_Canceled  \n",
       "2                   60.00                       0       Canceled  \n",
       "3                  100.00                       0       Canceled  \n",
       "4                   94.50                       0       Canceled  \n",
       "...                   ...                     ...            ...  \n",
       "36270              167.80                       1   Not_Canceled  \n",
       "36271               90.95                       2       Canceled  \n",
       "36272               98.39                       2   Not_Canceled  \n",
       "36273               94.50                       0       Canceled  \n",
       "36274              161.67                       0   Not_Canceled  \n",
       "\n",
       "[36275 rows x 19 columns]"
      ]
     },
     "execution_count": 3,
     "metadata": {},
     "output_type": "execute_result"
    }
   ],
   "source": [
    "df"
   ]
  },
  {
   "cell_type": "markdown",
   "metadata": {
    "id": "-7LR0Xzbunqw"
   },
   "source": [
    "Podemos notar que o dataset possui 17 atributos diferentes. Podemos remover a variável \"Booking_ID\", uma vez que ela pode ser representada pelos índices da tabela."
   ]
  },
  {
   "cell_type": "code",
   "execution_count": 4,
   "metadata": {
    "id": "Mqtsotpcunqx"
   },
   "outputs": [],
   "source": [
    "# Remoção da variável Booking_ID\n",
    "df = df.drop('Booking_ID', axis=1)"
   ]
  },
  {
   "cell_type": "markdown",
   "metadata": {
    "id": "xfF7WY52unqz"
   },
   "source": [
    "### Remoção de linhas com valores faltantes"
   ]
  },
  {
   "cell_type": "markdown",
   "metadata": {},
   "source": [
    "Um dos primeiros passos é identificar as linhas com valores faltantes, pois esses dados podem causar problemas como imprecisão, viés e aumento do erro padrão."
   ]
  },
  {
   "cell_type": "code",
   "execution_count": 5,
   "metadata": {
    "colab": {
     "base_uri": "https://localhost:8080/"
    },
    "id": "qyuDFra4unq1",
    "outputId": "4f8bdf59-e45b-4eea-a47e-fe852298fbf4"
   },
   "outputs": [
    {
     "name": "stdout",
     "output_type": "stream",
     "text": [
      "Após remoção das linhas com valores faltantes:\n",
      "(36275, 18)\n"
     ]
    }
   ],
   "source": [
    "print(\"Após remoção das linhas com valores faltantes:\")\n",
    "df = df.dropna()\n",
    "print(df.shape)"
   ]
  },
  {
   "cell_type": "markdown",
   "metadata": {
    "id": "UmTGJpEJunq3"
   },
   "source": [
    "Uma vez que nenhuma linha foi removida, é possível concluir que o dataset não possui dados faltantes."
   ]
  },
  {
   "cell_type": "markdown",
   "metadata": {
    "id": "pVedDFw0unq4"
   },
   "source": [
    "### Remoção de dados redundantes"
   ]
  },
  {
   "cell_type": "markdown",
   "metadata": {},
   "source": [
    "#### Dados duplicados"
   ]
  },
  {
   "cell_type": "markdown",
   "metadata": {},
   "source": [
    "Considerando que o dataset é relativamente grande (>30k linhas), é imprescindível verificar a existência de dados duplicados, pois dependendo da quantidade de dados duplicados, isso pode levar a um inchamento do dataset, o que reduz a performance consideravelmente."
   ]
  },
  {
   "cell_type": "code",
   "execution_count": 6,
   "metadata": {
    "colab": {
     "base_uri": "https://localhost:8080/"
    },
    "id": "zZtErnAxunq6",
    "outputId": "85b005d8-2e75-4ba9-aa9c-7f0eede5d005"
   },
   "outputs": [
    {
     "name": "stdout",
     "output_type": "stream",
     "text": [
      "Após remoção da redundância:\n",
      "(26000, 18)\n"
     ]
    }
   ],
   "source": [
    "print(\"Após remoção da redundância:\")\n",
    "df = df.drop_duplicates(keep='first')\n",
    "print(df.shape)"
   ]
  },
  {
   "cell_type": "markdown",
   "metadata": {
    "id": "D5bn-jxsunq8"
   },
   "source": [
    "#### Atributos altamente correlacionados\n",
    "\n",
    "Após a remoção dos dados duplicados, é necessário verificar se o dataset possui atributos altamente correlacionados. No caso da existência desses atributos, é possível remover um (ou mais) deles para diminuir a redundância e melhorar a performance dos algoritmos ao processar este dataset."
   ]
  },
  {
   "cell_type": "code",
   "execution_count": 7,
   "metadata": {
    "colab": {
     "base_uri": "https://localhost:8080/"
    },
    "id": "s355kFTounq_",
    "outputId": "c58052ed-5db0-4774-b078-39a4b6048abb"
   },
   "outputs": [
    {
     "name": "stdout",
     "output_type": "stream",
     "text": [
      "Matriz superior com correlação:\n",
      "                                      no_of_adults  no_of_children  \\\n",
      "no_of_adults                                   NaN       -0.049246   \n",
      "no_of_children                                 NaN             NaN   \n",
      "no_of_weekend_nights                           NaN             NaN   \n",
      "no_of_week_nights                              NaN             NaN   \n",
      "required_car_parking_space                     NaN             NaN   \n",
      "lead_time                                      NaN             NaN   \n",
      "arrival_year                                   NaN             NaN   \n",
      "arrival_month                                  NaN             NaN   \n",
      "arrival_date                                   NaN             NaN   \n",
      "repeated_guest                                 NaN             NaN   \n",
      "no_of_previous_cancellations                   NaN             NaN   \n",
      "no_of_previous_bookings_not_canceled           NaN             NaN   \n",
      "avg_price_per_room                             NaN             NaN   \n",
      "no_of_special_requests                         NaN             NaN   \n",
      "\n",
      "                                      no_of_weekend_nights  no_of_week_nights  \\\n",
      "no_of_adults                                      0.089085           0.110933   \n",
      "no_of_children                                    0.010017           0.015904   \n",
      "no_of_weekend_nights                                   NaN           0.234186   \n",
      "no_of_week_nights                                      NaN                NaN   \n",
      "required_car_parking_space                             NaN                NaN   \n",
      "lead_time                                              NaN                NaN   \n",
      "arrival_year                                           NaN                NaN   \n",
      "arrival_month                                          NaN                NaN   \n",
      "arrival_date                                           NaN                NaN   \n",
      "repeated_guest                                         NaN                NaN   \n",
      "no_of_previous_cancellations                           NaN                NaN   \n",
      "no_of_previous_bookings_not_canceled                   NaN                NaN   \n",
      "avg_price_per_room                                     NaN                NaN   \n",
      "no_of_special_requests                                 NaN                NaN   \n",
      "\n",
      "                                      required_car_parking_space  lead_time  \\\n",
      "no_of_adults                                           -0.002372   0.154824   \n",
      "no_of_children                                          0.020848   0.012324   \n",
      "no_of_weekend_nights                                   -0.054212   0.134318   \n",
      "no_of_week_nights                                      -0.059488   0.223333   \n",
      "required_car_parking_space                                   NaN  -0.040525   \n",
      "lead_time                                                    NaN        NaN   \n",
      "arrival_year                                                 NaN        NaN   \n",
      "arrival_month                                                NaN        NaN   \n",
      "arrival_date                                                 NaN        NaN   \n",
      "repeated_guest                                               NaN        NaN   \n",
      "no_of_previous_cancellations                                 NaN        NaN   \n",
      "no_of_previous_bookings_not_canceled                         NaN        NaN   \n",
      "avg_price_per_room                                           NaN        NaN   \n",
      "no_of_special_requests                                       NaN        NaN   \n",
      "\n",
      "                                      arrival_year  arrival_month  \\\n",
      "no_of_adults                              0.094557       0.009344   \n",
      "no_of_children                            0.030721       0.004888   \n",
      "no_of_weekend_nights                      0.027833       0.014321   \n",
      "no_of_week_nights                         0.015372       0.031120   \n",
      "required_car_parking_space                0.004269      -0.012479   \n",
      "lead_time                                 0.171537       0.134461   \n",
      "arrival_year                                   NaN      -0.323118   \n",
      "arrival_month                                  NaN            NaN   \n",
      "arrival_date                                   NaN            NaN   \n",
      "repeated_guest                                 NaN            NaN   \n",
      "no_of_previous_cancellations                   NaN            NaN   \n",
      "no_of_previous_bookings_not_canceled           NaN            NaN   \n",
      "avg_price_per_room                             NaN            NaN   \n",
      "no_of_special_requests                         NaN            NaN   \n",
      "\n",
      "                                      arrival_date  repeated_guest  \\\n",
      "no_of_adults                              0.020377       -0.240795   \n",
      "no_of_children                            0.025196       -0.049668   \n",
      "no_of_weekend_nights                      0.005413       -0.090030   \n",
      "no_of_week_nights                        -0.003860       -0.119447   \n",
      "required_car_parking_space               -0.004620        0.107687   \n",
      "lead_time                                 0.036473       -0.149185   \n",
      "arrival_year                              0.015807       -0.008737   \n",
      "arrival_month                            -0.020236       -0.006239   \n",
      "arrival_date                                   NaN       -0.014409   \n",
      "repeated_guest                                 NaN             NaN   \n",
      "no_of_previous_cancellations                   NaN             NaN   \n",
      "no_of_previous_bookings_not_canceled           NaN             NaN   \n",
      "avg_price_per_room                             NaN             NaN   \n",
      "no_of_special_requests                         NaN             NaN   \n",
      "\n",
      "                                      no_of_previous_cancellations  \\\n",
      "no_of_adults                                             -0.063051   \n",
      "no_of_children                                           -0.021110   \n",
      "no_of_weekend_nights                                     -0.029229   \n",
      "no_of_week_nights                                        -0.034853   \n",
      "required_car_parking_space                                0.027046   \n",
      "lead_time                                                -0.053972   \n",
      "arrival_year                                              0.010835   \n",
      "arrival_month                                            -0.046451   \n",
      "arrival_date                                             -0.010350   \n",
      "repeated_guest                                            0.379195   \n",
      "no_of_previous_cancellations                                   NaN   \n",
      "no_of_previous_bookings_not_canceled                           NaN   \n",
      "avg_price_per_room                                             NaN   \n",
      "no_of_special_requests                                         NaN   \n",
      "\n",
      "                                      no_of_previous_bookings_not_canceled  \\\n",
      "no_of_adults                                                     -0.146520   \n",
      "no_of_children                                                   -0.029737   \n",
      "no_of_weekend_nights                                             -0.038840   \n",
      "no_of_week_nights                                                -0.057946   \n",
      "required_car_parking_space                                        0.058575   \n",
      "lead_time                                                        -0.087298   \n",
      "arrival_year                                                      0.024947   \n",
      "arrival_month                                                    -0.009762   \n",
      "arrival_date                                                     -0.003646   \n",
      "repeated_guest                                                    0.559826   \n",
      "no_of_previous_cancellations                                      0.495969   \n",
      "no_of_previous_bookings_not_canceled                                   NaN   \n",
      "avg_price_per_room                                                     NaN   \n",
      "no_of_special_requests                                                 NaN   \n",
      "\n",
      "                                      avg_price_per_room  \\\n",
      "no_of_adults                                    0.325352   \n",
      "no_of_children                                  0.350109   \n",
      "no_of_weekend_nights                           -0.001932   \n",
      "no_of_week_nights                               0.015449   \n",
      "required_car_parking_space                      0.057458   \n",
      "lead_time                                      -0.040446   \n",
      "arrival_year                                    0.173449   \n",
      "arrival_month                                   0.067413   \n",
      "arrival_date                                    0.021330   \n",
      "repeated_guest                                 -0.202498   \n",
      "no_of_previous_cancellations                   -0.072093   \n",
      "no_of_previous_bookings_not_canceled           -0.130310   \n",
      "avg_price_per_room                                   NaN   \n",
      "no_of_special_requests                               NaN   \n",
      "\n",
      "                                      no_of_special_requests  \n",
      "no_of_adults                                        0.156370  \n",
      "no_of_children                                      0.096366  \n",
      "no_of_weekend_nights                                0.013662  \n",
      "no_of_week_nights                                   0.030336  \n",
      "required_car_parking_space                          0.071079  \n",
      "lead_time                                          -0.007849  \n",
      "arrival_year                                       -0.001262  \n",
      "arrival_month                                       0.135426  \n",
      "arrival_date                                        0.001937  \n",
      "repeated_guest                                     -0.029725  \n",
      "no_of_previous_cancellations                       -0.006986  \n",
      "no_of_previous_bookings_not_canceled                0.015829  \n",
      "avg_price_per_room                                  0.174230  \n",
      "no_of_special_requests                                   NaN  \n"
     ]
    }
   ],
   "source": [
    "max_corr = 0.8\n",
    "\n",
    "corr = df.corr()\n",
    "m_sup = np.triu(np.ones(corr.shape),k=1).astype(np.bool)\n",
    "corr_sup = corr.where(m_sup)\n",
    "print(\"Matriz superior com correlação:\")\n",
    "print(corr_sup)"
   ]
  },
  {
   "cell_type": "code",
   "execution_count": 8,
   "metadata": {
    "colab": {
     "base_uri": "https://localhost:8080/"
    },
    "id": "7qZ52NyRunrE",
    "outputId": "89f62b4a-7ec6-492b-8e30-a56ae0db4c0f"
   },
   "outputs": [
    {
     "name": "stdout",
     "output_type": "stream",
     "text": [
      "Atributos com alta correlação:\n",
      "[]\n"
     ]
    }
   ],
   "source": [
    "atrib = [col for col in corr_sup.columns if any(corr_sup[col] >= max_corr)]\n",
    "print(\"Atributos com alta correlação:\")\n",
    "print(atrib)"
   ]
  },
  {
   "cell_type": "markdown",
   "metadata": {
    "id": "0ZZv6Eg4unrF"
   },
   "source": [
    "Uma vez que o dataset não possui atributos altamente relacionados, podemos continuar sem remover nenhuma coluna."
   ]
  },
  {
   "cell_type": "markdown",
   "metadata": {
    "id": "ipKsPbkxunrF"
   },
   "source": [
    "### Normalização dos dados\n",
    "\n",
    "Aqui será utilizado o método *z-score* para a normalização dos dados. O objetivo da normalização (ou padronização) é diminuir a influência dos atributos com maiores variações."
   ]
  },
  {
   "cell_type": "code",
   "execution_count": 9,
   "metadata": {},
   "outputs": [
    {
     "data": {
      "text/html": [
       "<style  type=\"text/css\" >\n",
       "</style><table id=\"T_4b1ec_\" ><thead>    <tr>        <th class=\"blank level0\" ></th>        <th class=\"col_heading level0 col0\" >count</th>        <th class=\"col_heading level0 col1\" >mean</th>        <th class=\"col_heading level0 col2\" >std</th>        <th class=\"col_heading level0 col3\" >min</th>        <th class=\"col_heading level0 col4\" >25%</th>        <th class=\"col_heading level0 col5\" >50%</th>        <th class=\"col_heading level0 col6\" >75%</th>        <th class=\"col_heading level0 col7\" >max</th>    </tr></thead><tbody>\n",
       "                <tr>\n",
       "                        <th id=\"T_4b1ec_level0_row0\" class=\"row_heading level0 row0\" >no_of_adults</th>\n",
       "                        <td id=\"T_4b1ec_row0_col0\" class=\"data row0 col0\" >26000.000000</td>\n",
       "                        <td id=\"T_4b1ec_row0_col1\" class=\"data row0 col1\" >1.890000</td>\n",
       "                        <td id=\"T_4b1ec_row0_col2\" class=\"data row0 col2\" >0.528702</td>\n",
       "                        <td id=\"T_4b1ec_row0_col3\" class=\"data row0 col3\" >0.000000</td>\n",
       "                        <td id=\"T_4b1ec_row0_col4\" class=\"data row0 col4\" >2.000000</td>\n",
       "                        <td id=\"T_4b1ec_row0_col5\" class=\"data row0 col5\" >2.000000</td>\n",
       "                        <td id=\"T_4b1ec_row0_col6\" class=\"data row0 col6\" >2.000000</td>\n",
       "                        <td id=\"T_4b1ec_row0_col7\" class=\"data row0 col7\" >4.000000</td>\n",
       "            </tr>\n",
       "            <tr>\n",
       "                        <th id=\"T_4b1ec_level0_row1\" class=\"row_heading level0 row1\" >no_of_children</th>\n",
       "                        <td id=\"T_4b1ec_row1_col0\" class=\"data row1 col0\" >26000.000000</td>\n",
       "                        <td id=\"T_4b1ec_row1_col1\" class=\"data row1 col1\" >0.141231</td>\n",
       "                        <td id=\"T_4b1ec_row1_col2\" class=\"data row1 col2\" >0.462502</td>\n",
       "                        <td id=\"T_4b1ec_row1_col3\" class=\"data row1 col3\" >0.000000</td>\n",
       "                        <td id=\"T_4b1ec_row1_col4\" class=\"data row1 col4\" >0.000000</td>\n",
       "                        <td id=\"T_4b1ec_row1_col5\" class=\"data row1 col5\" >0.000000</td>\n",
       "                        <td id=\"T_4b1ec_row1_col6\" class=\"data row1 col6\" >0.000000</td>\n",
       "                        <td id=\"T_4b1ec_row1_col7\" class=\"data row1 col7\" >10.000000</td>\n",
       "            </tr>\n",
       "            <tr>\n",
       "                        <th id=\"T_4b1ec_level0_row2\" class=\"row_heading level0 row2\" >no_of_weekend_nights</th>\n",
       "                        <td id=\"T_4b1ec_row2_col0\" class=\"data row2 col0\" >26000.000000</td>\n",
       "                        <td id=\"T_4b1ec_row2_col1\" class=\"data row2 col1\" >0.882385</td>\n",
       "                        <td id=\"T_4b1ec_row2_col2\" class=\"data row2 col2\" >0.887371</td>\n",
       "                        <td id=\"T_4b1ec_row2_col3\" class=\"data row2 col3\" >0.000000</td>\n",
       "                        <td id=\"T_4b1ec_row2_col4\" class=\"data row2 col4\" >0.000000</td>\n",
       "                        <td id=\"T_4b1ec_row2_col5\" class=\"data row2 col5\" >1.000000</td>\n",
       "                        <td id=\"T_4b1ec_row2_col6\" class=\"data row2 col6\" >2.000000</td>\n",
       "                        <td id=\"T_4b1ec_row2_col7\" class=\"data row2 col7\" >7.000000</td>\n",
       "            </tr>\n",
       "            <tr>\n",
       "                        <th id=\"T_4b1ec_level0_row3\" class=\"row_heading level0 row3\" >no_of_week_nights</th>\n",
       "                        <td id=\"T_4b1ec_row3_col0\" class=\"data row3 col0\" >26000.000000</td>\n",
       "                        <td id=\"T_4b1ec_row3_col1\" class=\"data row3 col1\" >2.261923</td>\n",
       "                        <td id=\"T_4b1ec_row3_col2\" class=\"data row3 col2\" >1.512341</td>\n",
       "                        <td id=\"T_4b1ec_row3_col3\" class=\"data row3 col3\" >0.000000</td>\n",
       "                        <td id=\"T_4b1ec_row3_col4\" class=\"data row3 col4\" >1.000000</td>\n",
       "                        <td id=\"T_4b1ec_row3_col5\" class=\"data row3 col5\" >2.000000</td>\n",
       "                        <td id=\"T_4b1ec_row3_col6\" class=\"data row3 col6\" >3.000000</td>\n",
       "                        <td id=\"T_4b1ec_row3_col7\" class=\"data row3 col7\" >17.000000</td>\n",
       "            </tr>\n",
       "            <tr>\n",
       "                        <th id=\"T_4b1ec_level0_row4\" class=\"row_heading level0 row4\" >required_car_parking_space</th>\n",
       "                        <td id=\"T_4b1ec_row4_col0\" class=\"data row4 col0\" >26000.000000</td>\n",
       "                        <td id=\"T_4b1ec_row4_col1\" class=\"data row4 col1\" >0.042115</td>\n",
       "                        <td id=\"T_4b1ec_row4_col2\" class=\"data row4 col2\" >0.200856</td>\n",
       "                        <td id=\"T_4b1ec_row4_col3\" class=\"data row4 col3\" >0.000000</td>\n",
       "                        <td id=\"T_4b1ec_row4_col4\" class=\"data row4 col4\" >0.000000</td>\n",
       "                        <td id=\"T_4b1ec_row4_col5\" class=\"data row4 col5\" >0.000000</td>\n",
       "                        <td id=\"T_4b1ec_row4_col6\" class=\"data row4 col6\" >0.000000</td>\n",
       "                        <td id=\"T_4b1ec_row4_col7\" class=\"data row4 col7\" >1.000000</td>\n",
       "            </tr>\n",
       "            <tr>\n",
       "                        <th id=\"T_4b1ec_level0_row5\" class=\"row_heading level0 row5\" >lead_time</th>\n",
       "                        <td id=\"T_4b1ec_row5_col0\" class=\"data row5 col0\" >26000.000000</td>\n",
       "                        <td id=\"T_4b1ec_row5_col1\" class=\"data row5 col1\" >66.452846</td>\n",
       "                        <td id=\"T_4b1ec_row5_col2\" class=\"data row5 col2\" >68.606799</td>\n",
       "                        <td id=\"T_4b1ec_row5_col3\" class=\"data row5 col3\" >0.000000</td>\n",
       "                        <td id=\"T_4b1ec_row5_col4\" class=\"data row5 col4\" >12.000000</td>\n",
       "                        <td id=\"T_4b1ec_row5_col5\" class=\"data row5 col5\" >44.000000</td>\n",
       "                        <td id=\"T_4b1ec_row5_col6\" class=\"data row5 col6\" >100.000000</td>\n",
       "                        <td id=\"T_4b1ec_row5_col7\" class=\"data row5 col7\" >443.000000</td>\n",
       "            </tr>\n",
       "            <tr>\n",
       "                        <th id=\"T_4b1ec_level0_row6\" class=\"row_heading level0 row6\" >arrival_year</th>\n",
       "                        <td id=\"T_4b1ec_row6_col0\" class=\"data row6 col0\" >26000.000000</td>\n",
       "                        <td id=\"T_4b1ec_row6_col1\" class=\"data row6 col1\" >2017.850269</td>\n",
       "                        <td id=\"T_4b1ec_row6_col2\" class=\"data row6 col2\" >0.356814</td>\n",
       "                        <td id=\"T_4b1ec_row6_col3\" class=\"data row6 col3\" >2017.000000</td>\n",
       "                        <td id=\"T_4b1ec_row6_col4\" class=\"data row6 col4\" >2018.000000</td>\n",
       "                        <td id=\"T_4b1ec_row6_col5\" class=\"data row6 col5\" >2018.000000</td>\n",
       "                        <td id=\"T_4b1ec_row6_col6\" class=\"data row6 col6\" >2018.000000</td>\n",
       "                        <td id=\"T_4b1ec_row6_col7\" class=\"data row6 col7\" >2018.000000</td>\n",
       "            </tr>\n",
       "            <tr>\n",
       "                        <th id=\"T_4b1ec_level0_row7\" class=\"row_heading level0 row7\" >arrival_month</th>\n",
       "                        <td id=\"T_4b1ec_row7_col0\" class=\"data row7 col0\" >26000.000000</td>\n",
       "                        <td id=\"T_4b1ec_row7_col1\" class=\"data row7 col1\" >7.332923</td>\n",
       "                        <td id=\"T_4b1ec_row7_col2\" class=\"data row7 col2\" >3.138925</td>\n",
       "                        <td id=\"T_4b1ec_row7_col3\" class=\"data row7 col3\" >1.000000</td>\n",
       "                        <td id=\"T_4b1ec_row7_col4\" class=\"data row7 col4\" >5.000000</td>\n",
       "                        <td id=\"T_4b1ec_row7_col5\" class=\"data row7 col5\" >8.000000</td>\n",
       "                        <td id=\"T_4b1ec_row7_col6\" class=\"data row7 col6\" >10.000000</td>\n",
       "                        <td id=\"T_4b1ec_row7_col7\" class=\"data row7 col7\" >12.000000</td>\n",
       "            </tr>\n",
       "            <tr>\n",
       "                        <th id=\"T_4b1ec_level0_row8\" class=\"row_heading level0 row8\" >arrival_date</th>\n",
       "                        <td id=\"T_4b1ec_row8_col0\" class=\"data row8 col0\" >26000.000000</td>\n",
       "                        <td id=\"T_4b1ec_row8_col1\" class=\"data row8 col1\" >15.750231</td>\n",
       "                        <td id=\"T_4b1ec_row8_col2\" class=\"data row8 col2\" >8.849394</td>\n",
       "                        <td id=\"T_4b1ec_row8_col3\" class=\"data row8 col3\" >1.000000</td>\n",
       "                        <td id=\"T_4b1ec_row8_col4\" class=\"data row8 col4\" >8.000000</td>\n",
       "                        <td id=\"T_4b1ec_row8_col5\" class=\"data row8 col5\" >16.000000</td>\n",
       "                        <td id=\"T_4b1ec_row8_col6\" class=\"data row8 col6\" >23.000000</td>\n",
       "                        <td id=\"T_4b1ec_row8_col7\" class=\"data row8 col7\" >31.000000</td>\n",
       "            </tr>\n",
       "            <tr>\n",
       "                        <th id=\"T_4b1ec_level0_row9\" class=\"row_heading level0 row9\" >repeated_guest</th>\n",
       "                        <td id=\"T_4b1ec_row9_col0\" class=\"data row9 col0\" >26000.000000</td>\n",
       "                        <td id=\"T_4b1ec_row9_col1\" class=\"data row9 col1\" >0.032769</td>\n",
       "                        <td id=\"T_4b1ec_row9_col2\" class=\"data row9 col2\" >0.178035</td>\n",
       "                        <td id=\"T_4b1ec_row9_col3\" class=\"data row9 col3\" >0.000000</td>\n",
       "                        <td id=\"T_4b1ec_row9_col4\" class=\"data row9 col4\" >0.000000</td>\n",
       "                        <td id=\"T_4b1ec_row9_col5\" class=\"data row9 col5\" >0.000000</td>\n",
       "                        <td id=\"T_4b1ec_row9_col6\" class=\"data row9 col6\" >0.000000</td>\n",
       "                        <td id=\"T_4b1ec_row9_col7\" class=\"data row9 col7\" >1.000000</td>\n",
       "            </tr>\n",
       "            <tr>\n",
       "                        <th id=\"T_4b1ec_level0_row10\" class=\"row_heading level0 row10\" >no_of_previous_cancellations</th>\n",
       "                        <td id=\"T_4b1ec_row10_col0\" class=\"data row10 col0\" >26000.000000</td>\n",
       "                        <td id=\"T_4b1ec_row10_col1\" class=\"data row10 col1\" >0.028538</td>\n",
       "                        <td id=\"T_4b1ec_row10_col2\" class=\"data row10 col2\" >0.408891</td>\n",
       "                        <td id=\"T_4b1ec_row10_col3\" class=\"data row10 col3\" >0.000000</td>\n",
       "                        <td id=\"T_4b1ec_row10_col4\" class=\"data row10 col4\" >0.000000</td>\n",
       "                        <td id=\"T_4b1ec_row10_col5\" class=\"data row10 col5\" >0.000000</td>\n",
       "                        <td id=\"T_4b1ec_row10_col6\" class=\"data row10 col6\" >0.000000</td>\n",
       "                        <td id=\"T_4b1ec_row10_col7\" class=\"data row10 col7\" >13.000000</td>\n",
       "            </tr>\n",
       "            <tr>\n",
       "                        <th id=\"T_4b1ec_level0_row11\" class=\"row_heading level0 row11\" >no_of_previous_bookings_not_canceled</th>\n",
       "                        <td id=\"T_4b1ec_row11_col0\" class=\"data row11 col0\" >26000.000000</td>\n",
       "                        <td id=\"T_4b1ec_row11_col1\" class=\"data row11 col1\" >0.213115</td>\n",
       "                        <td id=\"T_4b1ec_row11_col2\" class=\"data row11 col2\" >2.068243</td>\n",
       "                        <td id=\"T_4b1ec_row11_col3\" class=\"data row11 col3\" >0.000000</td>\n",
       "                        <td id=\"T_4b1ec_row11_col4\" class=\"data row11 col4\" >0.000000</td>\n",
       "                        <td id=\"T_4b1ec_row11_col5\" class=\"data row11 col5\" >0.000000</td>\n",
       "                        <td id=\"T_4b1ec_row11_col6\" class=\"data row11 col6\" >0.000000</td>\n",
       "                        <td id=\"T_4b1ec_row11_col7\" class=\"data row11 col7\" >58.000000</td>\n",
       "            </tr>\n",
       "            <tr>\n",
       "                        <th id=\"T_4b1ec_level0_row12\" class=\"row_heading level0 row12\" >avg_price_per_room</th>\n",
       "                        <td id=\"T_4b1ec_row12_col0\" class=\"data row12 col0\" >26000.000000</td>\n",
       "                        <td id=\"T_4b1ec_row12_col1\" class=\"data row12 col1\" >105.695838</td>\n",
       "                        <td id=\"T_4b1ec_row12_col2\" class=\"data row12 col2\" >37.876592</td>\n",
       "                        <td id=\"T_4b1ec_row12_col3\" class=\"data row12 col3\" >0.000000</td>\n",
       "                        <td id=\"T_4b1ec_row12_col4\" class=\"data row12 col4\" >80.750000</td>\n",
       "                        <td id=\"T_4b1ec_row12_col5\" class=\"data row12 col5\" >100.000000</td>\n",
       "                        <td id=\"T_4b1ec_row12_col6\" class=\"data row12 col6\" >127.000000</td>\n",
       "                        <td id=\"T_4b1ec_row12_col7\" class=\"data row12 col7\" >540.000000</td>\n",
       "            </tr>\n",
       "            <tr>\n",
       "                        <th id=\"T_4b1ec_level0_row13\" class=\"row_heading level0 row13\" >no_of_special_requests</th>\n",
       "                        <td id=\"T_4b1ec_row13_col0\" class=\"data row13 col0\" >26000.000000</td>\n",
       "                        <td id=\"T_4b1ec_row13_col1\" class=\"data row13 col1\" >0.741962</td>\n",
       "                        <td id=\"T_4b1ec_row13_col2\" class=\"data row13 col2\" >0.815109</td>\n",
       "                        <td id=\"T_4b1ec_row13_col3\" class=\"data row13 col3\" >0.000000</td>\n",
       "                        <td id=\"T_4b1ec_row13_col4\" class=\"data row13 col4\" >0.000000</td>\n",
       "                        <td id=\"T_4b1ec_row13_col5\" class=\"data row13 col5\" >1.000000</td>\n",
       "                        <td id=\"T_4b1ec_row13_col6\" class=\"data row13 col6\" >1.000000</td>\n",
       "                        <td id=\"T_4b1ec_row13_col7\" class=\"data row13 col7\" >5.000000</td>\n",
       "            </tr>\n",
       "    </tbody></table>"
      ],
      "text/plain": [
       "<pandas.io.formats.style.Styler at 0x7ffa1048d4c0>"
      ]
     },
     "execution_count": 9,
     "metadata": {},
     "output_type": "execute_result"
    }
   ],
   "source": [
    "df.describe().T.style"
   ]
  },
  {
   "cell_type": "code",
   "execution_count": 10,
   "metadata": {
    "colab": {
     "base_uri": "https://localhost:8080/",
     "height": 340
    },
    "id": "vzC9yRV3unrJ",
    "outputId": "24802f26-17c2-4850-921b-11d6131c7aef"
   },
   "outputs": [
    {
     "data": {
      "text/html": [
       "<div>\n",
       "<style scoped>\n",
       "    .dataframe tbody tr th:only-of-type {\n",
       "        vertical-align: middle;\n",
       "    }\n",
       "\n",
       "    .dataframe tbody tr th {\n",
       "        vertical-align: top;\n",
       "    }\n",
       "\n",
       "    .dataframe thead th {\n",
       "        text-align: right;\n",
       "    }\n",
       "</style>\n",
       "<table border=\"1\" class=\"dataframe\">\n",
       "  <thead>\n",
       "    <tr style=\"text-align: right;\">\n",
       "      <th></th>\n",
       "      <th>no_of_adults</th>\n",
       "      <th>no_of_children</th>\n",
       "      <th>no_of_weekend_nights</th>\n",
       "      <th>no_of_week_nights</th>\n",
       "      <th>type_of_meal_plan</th>\n",
       "      <th>required_car_parking_space</th>\n",
       "      <th>room_type_reserved</th>\n",
       "      <th>lead_time</th>\n",
       "      <th>arrival_year</th>\n",
       "      <th>arrival_month</th>\n",
       "      <th>arrival_date</th>\n",
       "      <th>market_segment_type</th>\n",
       "      <th>repeated_guest</th>\n",
       "      <th>no_of_previous_cancellations</th>\n",
       "      <th>no_of_previous_bookings_not_canceled</th>\n",
       "      <th>avg_price_per_room</th>\n",
       "      <th>no_of_special_requests</th>\n",
       "      <th>booking_status</th>\n",
       "    </tr>\n",
       "  </thead>\n",
       "  <tbody>\n",
       "    <tr>\n",
       "      <th>0</th>\n",
       "      <td>0.208057</td>\n",
       "      <td>-0.305362</td>\n",
       "      <td>0.132544</td>\n",
       "      <td>-0.173190</td>\n",
       "      <td>Meal Plan 1</td>\n",
       "      <td>-0.209679</td>\n",
       "      <td>Room_Type 1</td>\n",
       "      <td>2.296378</td>\n",
       "      <td>-2.382947</td>\n",
       "      <td>0.849679</td>\n",
       "      <td>-1.553805</td>\n",
       "      <td>Offline</td>\n",
       "      <td>-0.18406</td>\n",
       "      <td>-0.069795</td>\n",
       "      <td>-0.103042</td>\n",
       "      <td>-1.074432</td>\n",
       "      <td>-0.910260</td>\n",
       "      <td>Not_Canceled</td>\n",
       "    </tr>\n",
       "    <tr>\n",
       "      <th>1</th>\n",
       "      <td>0.208057</td>\n",
       "      <td>-0.305362</td>\n",
       "      <td>1.259468</td>\n",
       "      <td>0.488036</td>\n",
       "      <td>Not Selected</td>\n",
       "      <td>-0.209679</td>\n",
       "      <td>Room_Type 1</td>\n",
       "      <td>-0.895725</td>\n",
       "      <td>0.419632</td>\n",
       "      <td>1.168259</td>\n",
       "      <td>-1.101796</td>\n",
       "      <td>Online</td>\n",
       "      <td>-0.18406</td>\n",
       "      <td>-0.069795</td>\n",
       "      <td>-0.103042</td>\n",
       "      <td>0.025983</td>\n",
       "      <td>0.316569</td>\n",
       "      <td>Not_Canceled</td>\n",
       "    </tr>\n",
       "    <tr>\n",
       "      <th>2</th>\n",
       "      <td>-1.683367</td>\n",
       "      <td>-0.305362</td>\n",
       "      <td>1.259468</td>\n",
       "      <td>-0.834417</td>\n",
       "      <td>Meal Plan 1</td>\n",
       "      <td>-0.209679</td>\n",
       "      <td>Room_Type 1</td>\n",
       "      <td>-0.954029</td>\n",
       "      <td>0.419632</td>\n",
       "      <td>-1.698965</td>\n",
       "      <td>1.384249</td>\n",
       "      <td>Online</td>\n",
       "      <td>-0.18406</td>\n",
       "      <td>-0.069795</td>\n",
       "      <td>-0.103042</td>\n",
       "      <td>-1.206440</td>\n",
       "      <td>-0.910260</td>\n",
       "      <td>Canceled</td>\n",
       "    </tr>\n",
       "    <tr>\n",
       "      <th>3</th>\n",
       "      <td>0.208057</td>\n",
       "      <td>-0.305362</td>\n",
       "      <td>-0.994380</td>\n",
       "      <td>-0.173190</td>\n",
       "      <td>Meal Plan 1</td>\n",
       "      <td>-0.209679</td>\n",
       "      <td>Room_Type 1</td>\n",
       "      <td>2.106893</td>\n",
       "      <td>0.419632</td>\n",
       "      <td>-0.743224</td>\n",
       "      <td>0.480233</td>\n",
       "      <td>Online</td>\n",
       "      <td>-0.18406</td>\n",
       "      <td>-0.069795</td>\n",
       "      <td>-0.103042</td>\n",
       "      <td>-0.150379</td>\n",
       "      <td>-0.910260</td>\n",
       "      <td>Canceled</td>\n",
       "    </tr>\n",
       "    <tr>\n",
       "      <th>4</th>\n",
       "      <td>0.208057</td>\n",
       "      <td>-0.305362</td>\n",
       "      <td>0.132544</td>\n",
       "      <td>-0.834417</td>\n",
       "      <td>Not Selected</td>\n",
       "      <td>-0.209679</td>\n",
       "      <td>Room_Type 1</td>\n",
       "      <td>-0.268965</td>\n",
       "      <td>0.419632</td>\n",
       "      <td>-1.061804</td>\n",
       "      <td>-0.536786</td>\n",
       "      <td>Online</td>\n",
       "      <td>-0.18406</td>\n",
       "      <td>-0.069795</td>\n",
       "      <td>-0.103042</td>\n",
       "      <td>-0.295587</td>\n",
       "      <td>-0.910260</td>\n",
       "      <td>Canceled</td>\n",
       "    </tr>\n",
       "  </tbody>\n",
       "</table>\n",
       "</div>"
      ],
      "text/plain": [
       "   no_of_adults  no_of_children  no_of_weekend_nights  no_of_week_nights  \\\n",
       "0      0.208057       -0.305362              0.132544          -0.173190   \n",
       "1      0.208057       -0.305362              1.259468           0.488036   \n",
       "2     -1.683367       -0.305362              1.259468          -0.834417   \n",
       "3      0.208057       -0.305362             -0.994380          -0.173190   \n",
       "4      0.208057       -0.305362              0.132544          -0.834417   \n",
       "\n",
       "  type_of_meal_plan  required_car_parking_space room_type_reserved  lead_time  \\\n",
       "0       Meal Plan 1                   -0.209679        Room_Type 1   2.296378   \n",
       "1      Not Selected                   -0.209679        Room_Type 1  -0.895725   \n",
       "2       Meal Plan 1                   -0.209679        Room_Type 1  -0.954029   \n",
       "3       Meal Plan 1                   -0.209679        Room_Type 1   2.106893   \n",
       "4      Not Selected                   -0.209679        Room_Type 1  -0.268965   \n",
       "\n",
       "   arrival_year  arrival_month  arrival_date market_segment_type  \\\n",
       "0     -2.382947       0.849679     -1.553805             Offline   \n",
       "1      0.419632       1.168259     -1.101796              Online   \n",
       "2      0.419632      -1.698965      1.384249              Online   \n",
       "3      0.419632      -0.743224      0.480233              Online   \n",
       "4      0.419632      -1.061804     -0.536786              Online   \n",
       "\n",
       "   repeated_guest  no_of_previous_cancellations  \\\n",
       "0        -0.18406                     -0.069795   \n",
       "1        -0.18406                     -0.069795   \n",
       "2        -0.18406                     -0.069795   \n",
       "3        -0.18406                     -0.069795   \n",
       "4        -0.18406                     -0.069795   \n",
       "\n",
       "   no_of_previous_bookings_not_canceled  avg_price_per_room  \\\n",
       "0                             -0.103042           -1.074432   \n",
       "1                             -0.103042            0.025983   \n",
       "2                             -0.103042           -1.206440   \n",
       "3                             -0.103042           -0.150379   \n",
       "4                             -0.103042           -0.295587   \n",
       "\n",
       "   no_of_special_requests booking_status  \n",
       "0               -0.910260   Not_Canceled  \n",
       "1                0.316569   Not_Canceled  \n",
       "2               -0.910260       Canceled  \n",
       "3               -0.910260       Canceled  \n",
       "4               -0.910260       Canceled  "
      ]
     },
     "execution_count": 10,
     "metadata": {},
     "output_type": "execute_result"
    }
   ],
   "source": [
    "# z-score\n",
    "df_norm = df.select_dtypes(include='number')\n",
    "df_norm = (df_norm - df_norm.mean(numeric_only=True)) / (df_norm.std(numeric_only=True))\n",
    "df[df_norm.columns] = df_norm\n",
    "\n",
    "df.head()"
   ]
  },
  {
   "cell_type": "markdown",
   "metadata": {
    "id": "twh4QUuWunrM"
   },
   "source": [
    "### Variáveis categóricas\n",
    "\n",
    "Observando a tabela, é possível perceber que as variáveis \"type_of_meal_plan\", \"room_type_reserved\" e \"\tmarket_segment_type\" são categóricas. Sendo assim, é necessário codificá-las para facilitar os próximos passos do processamento e classificação do dataset."
   ]
  },
  {
   "cell_type": "code",
   "execution_count": 11,
   "metadata": {
    "colab": {
     "base_uri": "https://localhost:8080/"
    },
    "id": "zza99aXaunrO",
    "outputId": "2d34c340-7328-4702-b239-c4a0d91a2b8b"
   },
   "outputs": [
    {
     "name": "stdout",
     "output_type": "stream",
     "text": [
      "\n",
      "Valores categóricos contidos no atributo type_of_meal_plan:\n",
      "['Meal Plan 1' 'Not Selected' 'Meal Plan 2' 'Meal Plan 3']\n",
      "\n",
      "Valores categóricos contidos no atributo room_type_reserved:\n",
      "['Room_Type 1' 'Room_Type 4' 'Room_Type 2' 'Room_Type 6' 'Room_Type 5'\n",
      " 'Room_Type 7' 'Room_Type 3']\n",
      "\n",
      "Valores categóricos contidos no atributo market_segment_type:\n",
      "['Offline' 'Online' 'Corporate' 'Aviation' 'Complementary']\n"
     ]
    }
   ],
   "source": [
    "# Variáveis categóricas\n",
    "print(\"\\nValores categóricos contidos no atributo type_of_meal_plan:\")\n",
    "print(df['type_of_meal_plan'].unique())\n",
    "print(\"\\nValores categóricos contidos no atributo room_type_reserved:\")\n",
    "print(df['room_type_reserved'].unique())\n",
    "print(\"\\nValores categóricos contidos no atributo market_segment_type:\")\n",
    "print(df['market_segment_type'].unique())"
   ]
  },
  {
   "cell_type": "code",
   "execution_count": 12,
   "metadata": {
    "colab": {
     "base_uri": "https://localhost:8080/",
     "height": 465
    },
    "id": "fluAY8x3unrT",
    "outputId": "d0460bf9-02f1-4add-cd0a-1aced5b45303"
   },
   "outputs": [
    {
     "name": "stdout",
     "output_type": "stream",
     "text": [
      "\n",
      "Visualização dos valores no atributo type_of_meal_plan:\n"
     ]
    },
    {
     "data": {
      "image/png": "[encoded data removed]",
      "text/plain": [
       "<Figure size 432x288 with 1 Axes>"
      ]
     },
     "metadata": {
      "needs_background": "light"
     },
     "output_type": "display_data"
    }
   ],
   "source": [
    "# type_of_meal_plan\n",
    "print(\"\\nVisualização dos valores no atributo type_of_meal_plan:\")\n",
    "df['type_of_meal_plan'].hist()\n",
    "plt.show()"
   ]
  },
  {
   "cell_type": "markdown",
   "metadata": {},
   "source": [
    "Uma vez que a categoria \"Meal Plan 3\" é negligível, podemos removê-la do dataset."
   ]
  },
  {
   "cell_type": "code",
   "execution_count": 13,
   "metadata": {
    "colab": {
     "base_uri": "https://localhost:8080/",
     "height": 430
    },
    "id": "vbQg3DEPunrU",
    "outputId": "d04fc1e0-9ff8-4c5d-d263-c74294578107"
   },
   "outputs": [
    {
     "data": {
      "image/png": "[encoded data removed]",
      "text/plain": [
       "<Figure size 432x288 with 1 Axes>"
      ]
     },
     "metadata": {
      "needs_background": "light"
     },
     "output_type": "display_data"
    }
   ],
   "source": [
    "df = df[(df['type_of_meal_plan']!='Meal Plan 3')]\n",
    "df['type_of_meal_plan'].hist()\n",
    "plt.show()"
   ]
  },
  {
   "cell_type": "code",
   "execution_count": 14,
   "metadata": {
    "id": "UwpWLXMaunrV"
   },
   "outputs": [],
   "source": [
    "# Gerando as variáveis dummy e adicionando elas no dataset, substituindo a variável original\n",
    "dummies = pd.get_dummies(df['type_of_meal_plan'])\n",
    "df = df.drop('type_of_meal_plan', axis=1)\n",
    "df = pd.concat([df, dummies], axis=1, sort=False)"
   ]
  },
  {
   "cell_type": "code",
   "execution_count": 15,
   "metadata": {
    "colab": {
     "base_uri": "https://localhost:8080/",
     "height": 465
    },
    "id": "CEPd4H49unrV",
    "outputId": "929e03ff-05d8-4ec8-9eee-120b94792d2b"
   },
   "outputs": [
    {
     "name": "stdout",
     "output_type": "stream",
     "text": [
      "\n",
      "Visualização dos valores no atributo room_type_reserved:\n"
     ]
    },
    {
     "data": {
      "image/png": "[encoded data removed]",
      "text/plain": [
       "<Figure size 432x288 with 1 Axes>"
      ]
     },
     "metadata": {
      "needs_background": "light"
     },
     "output_type": "display_data"
    }
   ],
   "source": [
    "# room_type_reserved\n",
    "print(\"\\nVisualização dos valores no atributo room_type_reserved:\")\n",
    "df['room_type_reserved'] = df['room_type_reserved'].replace(['Room_Type 1','Room_Type 2','Room_Type 3','Room_Type 4','Room_Type 5','Room_Type 6','Room_Type 7'],['rt1','rt2','rt3','rt4','rt5','rt6','rt7'])\n",
    "df['room_type_reserved'].hist()\n",
    "plt.show()"
   ]
  },
  {
   "cell_type": "markdown",
   "metadata": {},
   "source": [
    "Uma vez que algumas categorias possuem valores muito baixos, podemos fundi-las numa única categoria."
   ]
  },
  {
   "cell_type": "code",
   "execution_count": 16,
   "metadata": {
    "colab": {
     "base_uri": "https://localhost:8080/",
     "height": 569
    },
    "id": "4EyC6wZounrW",
    "outputId": "6b92b328-5159-4b6f-8502-9234c3aad355"
   },
   "outputs": [
    {
     "name": "stdout",
     "output_type": "stream",
     "text": [
      "rt1    0.717023\n",
      "rt4    0.208579\n",
      "rt6    0.036276\n",
      "rt2    0.023081\n",
      "rt5    0.008925\n",
      "rt7    0.005886\n",
      "rt3    0.000231\n",
      "Name: room_type_reserved, dtype: float64\n"
     ]
    },
    {
     "data": {
      "image/png": "[encoded data removed]",
      "text/plain": [
       "<Figure size 432x288 with 1 Axes>"
      ]
     },
     "metadata": {
      "needs_background": "light"
     },
     "output_type": "display_data"
    }
   ],
   "source": [
    "# Frequências de cada categoria\n",
    "freq = df['room_type_reserved'].value_counts(normalize=True)\n",
    "print(freq)\n",
    "\n",
    "# Fundindo as categorias que representam <10% de casos\n",
    "df['room_type_reserved'] = df['room_type_reserved'].mask(df['room_type_reserved'].map(freq) < 0.1, 'Other room types')\n",
    "df['room_type_reserved'].hist()\n",
    "plt.show()"
   ]
  },
  {
   "cell_type": "code",
   "execution_count": 17,
   "metadata": {
    "id": "BTfoV73lunrX"
   },
   "outputs": [],
   "source": [
    "# Gerando as variáveis dummy e adicionando elas no dataset, substituindo a variável original\n",
    "dummies = pd.get_dummies(df['room_type_reserved'])\n",
    "df = df.drop('room_type_reserved', axis=1)\n",
    "df = pd.concat([df, dummies], axis=1, sort=False)"
   ]
  },
  {
   "cell_type": "code",
   "execution_count": 18,
   "metadata": {
    "colab": {
     "base_uri": "https://localhost:8080/",
     "height": 465
    },
    "id": "M0Zhxa0XunrX",
    "outputId": "da3d18be-0d3a-486d-88cd-60490ca01414"
   },
   "outputs": [
    {
     "name": "stdout",
     "output_type": "stream",
     "text": [
      "\n",
      "Visualização dos valores no atributo market_segment_type:\n"
     ]
    },
    {
     "data": {
      "image/png": "[encoded data removed]",
      "text/plain": [
       "<Figure size 432x288 with 1 Axes>"
      ]
     },
     "metadata": {
      "needs_background": "light"
     },
     "output_type": "display_data"
    }
   ],
   "source": [
    "# market_segment_type\n",
    "print(\"\\nVisualização dos valores no atributo market_segment_type:\")\n",
    "df['market_segment_type'].hist()\n",
    "plt.show()"
   ]
  },
  {
   "cell_type": "code",
   "execution_count": 19,
   "metadata": {
    "colab": {
     "base_uri": "https://localhost:8080/",
     "height": 534
    },
    "id": "w-YcRU5ounrY",
    "outputId": "173d1589-272c-44b5-c063-a4602dbb231f"
   },
   "outputs": [
    {
     "name": "stdout",
     "output_type": "stream",
     "text": [
      "Online           0.770110\n",
      "Offline          0.158146\n",
      "Corporate        0.054318\n",
      "Complementary    0.013580\n",
      "Aviation         0.003847\n",
      "Name: market_segment_type, dtype: float64\n"
     ]
    },
    {
     "data": {
      "image/png": "[encoded data removed]",
      "text/plain": [
       "<Figure size 432x288 with 1 Axes>"
      ]
     },
     "metadata": {
      "needs_background": "light"
     },
     "output_type": "display_data"
    }
   ],
   "source": [
    "# Frequências de cada categoria\n",
    "freq = df['market_segment_type'].value_counts(normalize=True)\n",
    "print(freq)\n",
    "\n",
    "# Fundindo as categorias que representam <10% de casos\n",
    "df['market_segment_type'] = df['market_segment_type'].mask(df['market_segment_type'].map(freq) < 0.1, 'Other segment types')\n",
    "df['market_segment_type'].hist()\n",
    "plt.show()"
   ]
  },
  {
   "cell_type": "code",
   "execution_count": 20,
   "metadata": {
    "colab": {
     "base_uri": "https://localhost:8080/",
     "height": 523
    },
    "id": "ttJsxSwHunrZ",
    "outputId": "68baffa7-3e21-4f5f-cb71-f82355bceb81"
   },
   "outputs": [],
   "source": [
    "# Gerando as variáveis dummy e adicionando elas no dataset, substituindo a variável original\n",
    "dummies = pd.get_dummies(df['market_segment_type'])\n",
    "df = df.drop('market_segment_type', axis=1)\n",
    "df = pd.concat([df, dummies], axis=1, sort=False)"
   ]
  },
  {
   "cell_type": "code",
   "execution_count": 21,
   "metadata": {
    "colab": {
     "base_uri": "https://localhost:8080/",
     "height": 465
    },
    "id": "euAhU2m5unrb",
    "outputId": "9748101d-9e0d-4c9d-86f2-5078667e5af0"
   },
   "outputs": [
    {
     "name": "stdout",
     "output_type": "stream",
     "text": [
      "\n",
      "Visualização dos valores no atributo booking_status:\n"
     ]
    },
    {
     "data": {
      "image/png": "[encoded data removed]",
      "text/plain": [
       "<Figure size 432x288 with 1 Axes>"
      ]
     },
     "metadata": {
      "needs_background": "light"
     },
     "output_type": "display_data"
    }
   ],
   "source": [
    "# booking_status\n",
    "print(\"\\nVisualização dos valores no atributo booking_status:\")\n",
    "df['booking_status'].hist()\n",
    "plt.show()\n",
    "\n",
    "dummies = pd.get_dummies(df['booking_status'])\n",
    "df = df.drop('booking_status', axis=1)\n",
    "df = pd.concat([df, dummies], axis=1, sort=False)"
   ]
  },
  {
   "cell_type": "code",
   "execution_count": 22,
   "metadata": {
    "colab": {
     "base_uri": "https://localhost:8080/",
     "height": 523
    },
    "id": "qTngeWPbunrb",
    "outputId": "8f340750-c0cb-4ecf-d96d-777a2d442b85"
   },
   "outputs": [
    {
     "data": {
      "text/html": [
       "<div>\n",
       "<style scoped>\n",
       "    .dataframe tbody tr th:only-of-type {\n",
       "        vertical-align: middle;\n",
       "    }\n",
       "\n",
       "    .dataframe tbody tr th {\n",
       "        vertical-align: top;\n",
       "    }\n",
       "\n",
       "    .dataframe thead th {\n",
       "        text-align: right;\n",
       "    }\n",
       "</style>\n",
       "<table border=\"1\" class=\"dataframe\">\n",
       "  <thead>\n",
       "    <tr style=\"text-align: right;\">\n",
       "      <th></th>\n",
       "      <th>no_of_adults</th>\n",
       "      <th>no_of_children</th>\n",
       "      <th>no_of_weekend_nights</th>\n",
       "      <th>no_of_week_nights</th>\n",
       "      <th>required_car_parking_space</th>\n",
       "      <th>lead_time</th>\n",
       "      <th>arrival_year</th>\n",
       "      <th>arrival_month</th>\n",
       "      <th>arrival_date</th>\n",
       "      <th>repeated_guest</th>\n",
       "      <th>...</th>\n",
       "      <th>Meal Plan 1</th>\n",
       "      <th>Meal Plan 2</th>\n",
       "      <th>Not Selected</th>\n",
       "      <th>Other room types</th>\n",
       "      <th>rt1</th>\n",
       "      <th>rt4</th>\n",
       "      <th>Offline</th>\n",
       "      <th>Online</th>\n",
       "      <th>Other segment types</th>\n",
       "      <th>Canceled</th>\n",
       "    </tr>\n",
       "  </thead>\n",
       "  <tbody>\n",
       "    <tr>\n",
       "      <th>0</th>\n",
       "      <td>0.208057</td>\n",
       "      <td>-0.305362</td>\n",
       "      <td>0.132544</td>\n",
       "      <td>-0.173190</td>\n",
       "      <td>-0.209679</td>\n",
       "      <td>2.296378</td>\n",
       "      <td>-2.382947</td>\n",
       "      <td>0.849679</td>\n",
       "      <td>-1.553805</td>\n",
       "      <td>-0.18406</td>\n",
       "      <td>...</td>\n",
       "      <td>1</td>\n",
       "      <td>0</td>\n",
       "      <td>0</td>\n",
       "      <td>0</td>\n",
       "      <td>1</td>\n",
       "      <td>0</td>\n",
       "      <td>1</td>\n",
       "      <td>0</td>\n",
       "      <td>0</td>\n",
       "      <td>0</td>\n",
       "    </tr>\n",
       "    <tr>\n",
       "      <th>1</th>\n",
       "      <td>0.208057</td>\n",
       "      <td>-0.305362</td>\n",
       "      <td>1.259468</td>\n",
       "      <td>0.488036</td>\n",
       "      <td>-0.209679</td>\n",
       "      <td>-0.895725</td>\n",
       "      <td>0.419632</td>\n",
       "      <td>1.168259</td>\n",
       "      <td>-1.101796</td>\n",
       "      <td>-0.18406</td>\n",
       "      <td>...</td>\n",
       "      <td>0</td>\n",
       "      <td>0</td>\n",
       "      <td>1</td>\n",
       "      <td>0</td>\n",
       "      <td>1</td>\n",
       "      <td>0</td>\n",
       "      <td>0</td>\n",
       "      <td>1</td>\n",
       "      <td>0</td>\n",
       "      <td>0</td>\n",
       "    </tr>\n",
       "    <tr>\n",
       "      <th>2</th>\n",
       "      <td>-1.683367</td>\n",
       "      <td>-0.305362</td>\n",
       "      <td>1.259468</td>\n",
       "      <td>-0.834417</td>\n",
       "      <td>-0.209679</td>\n",
       "      <td>-0.954029</td>\n",
       "      <td>0.419632</td>\n",
       "      <td>-1.698965</td>\n",
       "      <td>1.384249</td>\n",
       "      <td>-0.18406</td>\n",
       "      <td>...</td>\n",
       "      <td>1</td>\n",
       "      <td>0</td>\n",
       "      <td>0</td>\n",
       "      <td>0</td>\n",
       "      <td>1</td>\n",
       "      <td>0</td>\n",
       "      <td>0</td>\n",
       "      <td>1</td>\n",
       "      <td>0</td>\n",
       "      <td>1</td>\n",
       "    </tr>\n",
       "    <tr>\n",
       "      <th>3</th>\n",
       "      <td>0.208057</td>\n",
       "      <td>-0.305362</td>\n",
       "      <td>-0.994380</td>\n",
       "      <td>-0.173190</td>\n",
       "      <td>-0.209679</td>\n",
       "      <td>2.106893</td>\n",
       "      <td>0.419632</td>\n",
       "      <td>-0.743224</td>\n",
       "      <td>0.480233</td>\n",
       "      <td>-0.18406</td>\n",
       "      <td>...</td>\n",
       "      <td>1</td>\n",
       "      <td>0</td>\n",
       "      <td>0</td>\n",
       "      <td>0</td>\n",
       "      <td>1</td>\n",
       "      <td>0</td>\n",
       "      <td>0</td>\n",
       "      <td>1</td>\n",
       "      <td>0</td>\n",
       "      <td>1</td>\n",
       "    </tr>\n",
       "    <tr>\n",
       "      <th>4</th>\n",
       "      <td>0.208057</td>\n",
       "      <td>-0.305362</td>\n",
       "      <td>0.132544</td>\n",
       "      <td>-0.834417</td>\n",
       "      <td>-0.209679</td>\n",
       "      <td>-0.268965</td>\n",
       "      <td>0.419632</td>\n",
       "      <td>-1.061804</td>\n",
       "      <td>-0.536786</td>\n",
       "      <td>-0.18406</td>\n",
       "      <td>...</td>\n",
       "      <td>0</td>\n",
       "      <td>0</td>\n",
       "      <td>1</td>\n",
       "      <td>0</td>\n",
       "      <td>1</td>\n",
       "      <td>0</td>\n",
       "      <td>0</td>\n",
       "      <td>1</td>\n",
       "      <td>0</td>\n",
       "      <td>1</td>\n",
       "    </tr>\n",
       "    <tr>\n",
       "      <th>...</th>\n",
       "      <td>...</td>\n",
       "      <td>...</td>\n",
       "      <td>...</td>\n",
       "      <td>...</td>\n",
       "      <td>...</td>\n",
       "      <td>...</td>\n",
       "      <td>...</td>\n",
       "      <td>...</td>\n",
       "      <td>...</td>\n",
       "      <td>...</td>\n",
       "      <td>...</td>\n",
       "      <td>...</td>\n",
       "      <td>...</td>\n",
       "      <td>...</td>\n",
       "      <td>...</td>\n",
       "      <td>...</td>\n",
       "      <td>...</td>\n",
       "      <td>...</td>\n",
       "      <td>...</td>\n",
       "      <td>...</td>\n",
       "      <td>...</td>\n",
       "    </tr>\n",
       "    <tr>\n",
       "      <th>36269</th>\n",
       "      <td>0.208057</td>\n",
       "      <td>4.018942</td>\n",
       "      <td>-0.994380</td>\n",
       "      <td>-0.834417</td>\n",
       "      <td>-0.209679</td>\n",
       "      <td>-0.968604</td>\n",
       "      <td>0.419632</td>\n",
       "      <td>0.849679</td>\n",
       "      <td>-1.101796</td>\n",
       "      <td>-0.18406</td>\n",
       "      <td>...</td>\n",
       "      <td>1</td>\n",
       "      <td>0</td>\n",
       "      <td>0</td>\n",
       "      <td>1</td>\n",
       "      <td>0</td>\n",
       "      <td>0</td>\n",
       "      <td>0</td>\n",
       "      <td>1</td>\n",
       "      <td>0</td>\n",
       "      <td>1</td>\n",
       "    </tr>\n",
       "    <tr>\n",
       "      <th>36270</th>\n",
       "      <td>2.099480</td>\n",
       "      <td>-0.305362</td>\n",
       "      <td>1.259468</td>\n",
       "      <td>2.471715</td>\n",
       "      <td>-0.209679</td>\n",
       "      <td>0.270340</td>\n",
       "      <td>0.419632</td>\n",
       "      <td>0.212518</td>\n",
       "      <td>-1.440803</td>\n",
       "      <td>-0.18406</td>\n",
       "      <td>...</td>\n",
       "      <td>1</td>\n",
       "      <td>0</td>\n",
       "      <td>0</td>\n",
       "      <td>0</td>\n",
       "      <td>0</td>\n",
       "      <td>1</td>\n",
       "      <td>0</td>\n",
       "      <td>1</td>\n",
       "      <td>0</td>\n",
       "      <td>0</td>\n",
       "    </tr>\n",
       "    <tr>\n",
       "      <th>36271</th>\n",
       "      <td>0.208057</td>\n",
       "      <td>-0.305362</td>\n",
       "      <td>0.132544</td>\n",
       "      <td>0.488036</td>\n",
       "      <td>-0.209679</td>\n",
       "      <td>2.354681</td>\n",
       "      <td>0.419632</td>\n",
       "      <td>0.849679</td>\n",
       "      <td>0.141227</td>\n",
       "      <td>-0.18406</td>\n",
       "      <td>...</td>\n",
       "      <td>1</td>\n",
       "      <td>0</td>\n",
       "      <td>0</td>\n",
       "      <td>0</td>\n",
       "      <td>1</td>\n",
       "      <td>0</td>\n",
       "      <td>0</td>\n",
       "      <td>1</td>\n",
       "      <td>0</td>\n",
       "      <td>1</td>\n",
       "    </tr>\n",
       "    <tr>\n",
       "      <th>36272</th>\n",
       "      <td>0.208057</td>\n",
       "      <td>-0.305362</td>\n",
       "      <td>1.259468</td>\n",
       "      <td>2.471715</td>\n",
       "      <td>-0.209679</td>\n",
       "      <td>1.188616</td>\n",
       "      <td>0.419632</td>\n",
       "      <td>-0.106063</td>\n",
       "      <td>-1.666807</td>\n",
       "      <td>-0.18406</td>\n",
       "      <td>...</td>\n",
       "      <td>1</td>\n",
       "      <td>0</td>\n",
       "      <td>0</td>\n",
       "      <td>0</td>\n",
       "      <td>1</td>\n",
       "      <td>0</td>\n",
       "      <td>0</td>\n",
       "      <td>1</td>\n",
       "      <td>0</td>\n",
       "      <td>0</td>\n",
       "    </tr>\n",
       "    <tr>\n",
       "      <th>36273</th>\n",
       "      <td>0.208057</td>\n",
       "      <td>-0.305362</td>\n",
       "      <td>-0.994380</td>\n",
       "      <td>0.488036</td>\n",
       "      <td>-0.209679</td>\n",
       "      <td>-0.050328</td>\n",
       "      <td>0.419632</td>\n",
       "      <td>-1.061804</td>\n",
       "      <td>0.593235</td>\n",
       "      <td>-0.18406</td>\n",
       "      <td>...</td>\n",
       "      <td>0</td>\n",
       "      <td>0</td>\n",
       "      <td>1</td>\n",
       "      <td>0</td>\n",
       "      <td>1</td>\n",
       "      <td>0</td>\n",
       "      <td>0</td>\n",
       "      <td>1</td>\n",
       "      <td>0</td>\n",
       "      <td>1</td>\n",
       "    </tr>\n",
       "  </tbody>\n",
       "</table>\n",
       "<p>25995 rows × 24 columns</p>\n",
       "</div>"
      ],
      "text/plain": [
       "       no_of_adults  no_of_children  no_of_weekend_nights  no_of_week_nights  \\\n",
       "0          0.208057       -0.305362              0.132544          -0.173190   \n",
       "1          0.208057       -0.305362              1.259468           0.488036   \n",
       "2         -1.683367       -0.305362              1.259468          -0.834417   \n",
       "3          0.208057       -0.305362             -0.994380          -0.173190   \n",
       "4          0.208057       -0.305362              0.132544          -0.834417   \n",
       "...             ...             ...                   ...                ...   \n",
       "36269      0.208057        4.018942             -0.994380          -0.834417   \n",
       "36270      2.099480       -0.305362              1.259468           2.471715   \n",
       "36271      0.208057       -0.305362              0.132544           0.488036   \n",
       "36272      0.208057       -0.305362              1.259468           2.471715   \n",
       "36273      0.208057       -0.305362             -0.994380           0.488036   \n",
       "\n",
       "       required_car_parking_space  lead_time  arrival_year  arrival_month  \\\n",
       "0                       -0.209679   2.296378     -2.382947       0.849679   \n",
       "1                       -0.209679  -0.895725      0.419632       1.168259   \n",
       "2                       -0.209679  -0.954029      0.419632      -1.698965   \n",
       "3                       -0.209679   2.106893      0.419632      -0.743224   \n",
       "4                       -0.209679  -0.268965      0.419632      -1.061804   \n",
       "...                           ...        ...           ...            ...   \n",
       "36269                   -0.209679  -0.968604      0.419632       0.849679   \n",
       "36270                   -0.209679   0.270340      0.419632       0.212518   \n",
       "36271                   -0.209679   2.354681      0.419632       0.849679   \n",
       "36272                   -0.209679   1.188616      0.419632      -0.106063   \n",
       "36273                   -0.209679  -0.050328      0.419632      -1.061804   \n",
       "\n",
       "       arrival_date  repeated_guest  ...  Meal Plan 1  Meal Plan 2  \\\n",
       "0         -1.553805        -0.18406  ...            1            0   \n",
       "1         -1.101796        -0.18406  ...            0            0   \n",
       "2          1.384249        -0.18406  ...            1            0   \n",
       "3          0.480233        -0.18406  ...            1            0   \n",
       "4         -0.536786        -0.18406  ...            0            0   \n",
       "...             ...             ...  ...          ...          ...   \n",
       "36269     -1.101796        -0.18406  ...            1            0   \n",
       "36270     -1.440803        -0.18406  ...            1            0   \n",
       "36271      0.141227        -0.18406  ...            1            0   \n",
       "36272     -1.666807        -0.18406  ...            1            0   \n",
       "36273      0.593235        -0.18406  ...            0            0   \n",
       "\n",
       "       Not Selected  Other room types  rt1  rt4  Offline  Online  \\\n",
       "0                 0                 0    1    0        1       0   \n",
       "1                 1                 0    1    0        0       1   \n",
       "2                 0                 0    1    0        0       1   \n",
       "3                 0                 0    1    0        0       1   \n",
       "4                 1                 0    1    0        0       1   \n",
       "...             ...               ...  ...  ...      ...     ...   \n",
       "36269             0                 1    0    0        0       1   \n",
       "36270             0                 0    0    1        0       1   \n",
       "36271             0                 0    1    0        0       1   \n",
       "36272             0                 0    1    0        0       1   \n",
       "36273             1                 0    1    0        0       1   \n",
       "\n",
       "       Other segment types  Canceled  \n",
       "0                        0         0  \n",
       "1                        0         0  \n",
       "2                        0         1  \n",
       "3                        0         1  \n",
       "4                        0         1  \n",
       "...                    ...       ...  \n",
       "36269                    0         1  \n",
       "36270                    0         0  \n",
       "36271                    0         1  \n",
       "36272                    0         0  \n",
       "36273                    0         1  \n",
       "\n",
       "[25995 rows x 24 columns]"
      ]
     },
     "execution_count": 22,
     "metadata": {},
     "output_type": "execute_result"
    }
   ],
   "source": [
    "# Uma vez que a variável \"booking_status\" já é binária, a variável \"Not_Canceled\" se torna redundante\n",
    "# e pode ser removida\n",
    "df = df.drop('Not_Canceled', axis=1)\n",
    "\n",
    "df"
   ]
  },
  {
   "cell_type": "markdown",
   "metadata": {
    "id": "xhvEOqLwunrL"
   },
   "source": [
    "### Dados desbalanceados\n",
    "\n",
    "Para obter uma classificação mais precisa dos dados, é importante que a quantidade dos dados que indicam cada um dos resultados possíveis seja balanceada."
   ]
  },
  {
   "cell_type": "code",
   "execution_count": 23,
   "metadata": {},
   "outputs": [
    {
     "name": "stdout",
     "output_type": "stream",
     "text": [
      "[18554  7441]\n",
      "Razão de reservas canceladas: 0.29\n"
     ]
    }
   ],
   "source": [
    "from sklearn.datasets import make_classification\n",
    "\n",
    "# definindo os dados e o target\n",
    "X, y = df.drop(['Canceled'],axis=1).values, df['Canceled'].values\n",
    "\n",
    "# quantidade de dados para cada resultado\n",
    "(unique, counts) = np.unique(y, return_counts=True)\n",
    "print(counts)\n",
    "\n",
    "# calculando a razão de reservas canceladas para o total de reservas\n",
    "canceled = df.query(\"Canceled == 1\").shape[0]\n",
    "\n",
    "print(\"Razão de reservas canceladas: %.2f\" % (canceled / df.shape[0]))"
   ]
  },
  {
   "cell_type": "markdown",
   "metadata": {},
   "source": [
    "A quantidade de dados está relativamente desbalanceada, com as reservas canceladas sendo apenas 29% do total de reservas. Sendo assim, será necessário balancear os dados. Aqui será utilizado o algoritmo SMOTE Tomek, que reduz a classe majoritária e aumenta a classe minoritária de forma a igualar a quantidade dos dados nas categorias de resultado."
   ]
  },
  {
   "cell_type": "code",
   "execution_count": 24,
   "metadata": {},
   "outputs": [
    {
     "name": "stdout",
     "output_type": "stream",
     "text": [
      "Balanceando os dados com SMOTE Tomek:\n",
      "[18002 18002]\n"
     ]
    }
   ],
   "source": [
    "from imblearn.combine import SMOTETomek\n",
    "\n",
    "# SMOTE Tomek\n",
    "print(\"Balanceando os dados com SMOTE Tomek:\")\n",
    "smote_tomek = SMOTETomek(random_state=0)\n",
    "X_resampled, y_resampled = smote_tomek.fit_resample(X, y)\n",
    "\n",
    "# quantidade de dados para cada resultado\n",
    "(unique, counts) = np.unique(y_resampled, return_counts=True)\n",
    "print(counts)"
   ]
  },
  {
   "cell_type": "markdown",
   "metadata": {
    "id": "T4kxItY4unrc"
   },
   "source": [
    "### Outliers"
   ]
  },
  {
   "cell_type": "code",
   "execution_count": 25,
   "metadata": {},
   "outputs": [
    {
     "name": "stdout",
     "output_type": "stream",
     "text": [
      "\n",
      "Visualização dos valores no atributo no_of_adults:\n"
     ]
    },
    {
     "data": {
      "image/png": "[encoded data removed]",
      "text/plain": [
       "<Figure size 432x288 with 1 Axes>"
      ]
     },
     "metadata": {
      "needs_background": "light"
     },
     "output_type": "display_data"
    },
    {
     "name": "stdout",
     "output_type": "stream",
     "text": [
      "\n",
      "Visualização dos valores no atributo no_of_children:\n"
     ]
    },
    {
     "data": {
      "image/png": "[encoded data removed]",
      "text/plain": [
       "<Figure size 432x288 with 1 Axes>"
      ]
     },
     "metadata": {
      "needs_background": "light"
     },
     "output_type": "display_data"
    },
    {
     "name": "stdout",
     "output_type": "stream",
     "text": [
      "\n",
      "Visualização dos valores no atributo no_of_weekend_nights:\n"
     ]
    },
    {
     "data": {
      "image/png": "[encoded data removed]",
      "text/plain": [
       "<Figure size 432x288 with 1 Axes>"
      ]
     },
     "metadata": {
      "needs_background": "light"
     },
     "output_type": "display_data"
    },
    {
     "name": "stdout",
     "output_type": "stream",
     "text": [
      "\n",
      "Visualização dos valores no atributo no_of_week_nights:\n"
     ]
    },
    {
     "data": {
      "image/png": "[encoded data removed]",
      "text/plain": [
       "<Figure size 432x288 with 1 Axes>"
      ]
     },
     "metadata": {
      "needs_background": "light"
     },
     "output_type": "display_data"
    },
    {
     "name": "stdout",
     "output_type": "stream",
     "text": [
      "\n",
      "Visualização dos valores no atributo required_car_parking_space:\n"
     ]
    },
    {
     "data": {
      "image/png": "[encoded data removed]",
      "text/plain": [
       "<Figure size 432x288 with 1 Axes>"
      ]
     },
     "metadata": {
      "needs_background": "light"
     },
     "output_type": "display_data"
    },
    {
     "name": "stdout",
     "output_type": "stream",
     "text": [
      "\n",
      "Visualização dos valores no atributo lead_time:\n"
     ]
    },
    {
     "data": {
      "image/png": "[encoded data removed]",
      "text/plain": [
       "<Figure size 432x288 with 1 Axes>"
      ]
     },
     "metadata": {
      "needs_background": "light"
     },
     "output_type": "display_data"
    },
    {
     "name": "stdout",
     "output_type": "stream",
     "text": [
      "\n",
      "Visualização dos valores no atributo arrival_year:\n"
     ]
    },
    {
     "data": {
      "image/png": "[encoded data removed]",
      "text/plain": [
       "<Figure size 432x288 with 1 Axes>"
      ]
     },
     "metadata": {
      "needs_background": "light"
     },
     "output_type": "display_data"
    },
    {
     "name": "stdout",
     "output_type": "stream",
     "text": [
      "\n",
      "Visualização dos valores no atributo arrival_month:\n"
     ]
    },
    {
     "data": {
      "image/png": "[encoded data removed]",
      "text/plain": [
       "<Figure size 432x288 with 1 Axes>"
      ]
     },
     "metadata": {
      "needs_background": "light"
     },
     "output_type": "display_data"
    },
    {
     "name": "stdout",
     "output_type": "stream",
     "text": [
      "\n",
      "Visualização dos valores no atributo arrival_date:\n"
     ]
    },
    {
     "data": {
      "image/png": "[encoded data removed]",
      "text/plain": [
       "<Figure size 432x288 with 1 Axes>"
      ]
     },
     "metadata": {
      "needs_background": "light"
     },
     "output_type": "display_data"
    },
    {
     "name": "stdout",
     "output_type": "stream",
     "text": [
      "\n",
      "Visualização dos valores no atributo repeated_guest:\n"
     ]
    },
    {
     "data": {
      "image/png": "[encoded data removed]",
      "text/plain": [
       "<Figure size 432x288 with 1 Axes>"
      ]
     },
     "metadata": {
      "needs_background": "light"
     },
     "output_type": "display_data"
    },
    {
     "name": "stdout",
     "output_type": "stream",
     "text": [
      "\n",
      "Visualização dos valores no atributo no_of_previous_cancellations:\n"
     ]
    },
    {
     "data": {
      "image/png": "[encoded data removed]",
      "text/plain": [
       "<Figure size 432x288 with 1 Axes>"
      ]
     },
     "metadata": {
      "needs_background": "light"
     },
     "output_type": "display_data"
    },
    {
     "name": "stdout",
     "output_type": "stream",
     "text": [
      "\n",
      "Visualização dos valores no atributo no_of_previous_bookings_not_canceled:\n"
     ]
    },
    {
     "data": {
      "image/png": "[encoded data removed]",
      "text/plain": [
       "<Figure size 432x288 with 1 Axes>"
      ]
     },
     "metadata": {
      "needs_background": "light"
     },
     "output_type": "display_data"
    },
    {
     "name": "stdout",
     "output_type": "stream",
     "text": [
      "\n",
      "Visualização dos valores no atributo avg_price_per_room:\n"
     ]
    },
    {
     "data": {
      "image/png": "[encoded data removed]",
      "text/plain": [
       "<Figure size 432x288 with 1 Axes>"
      ]
     },
     "metadata": {
      "needs_background": "light"
     },
     "output_type": "display_data"
    },
    {
     "name": "stdout",
     "output_type": "stream",
     "text": [
      "\n",
      "Visualização dos valores no atributo no_of_special_requests:\n"
     ]
    },
    {
     "data": {
      "image/png": "[encoded data removed]",
      "text/plain": [
       "<Figure size 432x288 with 1 Axes>"
      ]
     },
     "metadata": {
      "needs_background": "light"
     },
     "output_type": "display_data"
    },
    {
     "name": "stdout",
     "output_type": "stream",
     "text": [
      "\n",
      "Visualização dos valores no atributo Meal Plan 1:\n"
     ]
    },
    {
     "data": {
      "image/png": "[encoded data removed]",
      "text/plain": [
       "<Figure size 432x288 with 1 Axes>"
      ]
     },
     "metadata": {
      "needs_background": "light"
     },
     "output_type": "display_data"
    },
    {
     "name": "stdout",
     "output_type": "stream",
     "text": [
      "\n",
      "Visualização dos valores no atributo Meal Plan 2:\n"
     ]
    },
    {
     "data": {
      "image/png": "[encoded data removed]",
      "text/plain": [
       "<Figure size 432x288 with 1 Axes>"
      ]
     },
     "metadata": {
      "needs_background": "light"
     },
     "output_type": "display_data"
    },
    {
     "name": "stdout",
     "output_type": "stream",
     "text": [
      "\n",
      "Visualização dos valores no atributo Not Selected:\n"
     ]
    },
    {
     "data": {
      "image/png": "[encoded data removed]",
      "text/plain": [
       "<Figure size 432x288 with 1 Axes>"
      ]
     },
     "metadata": {
      "needs_background": "light"
     },
     "output_type": "display_data"
    },
    {
     "name": "stdout",
     "output_type": "stream",
     "text": [
      "\n",
      "Visualização dos valores no atributo Other room types:\n"
     ]
    },
    {
     "data": {
      "image/png": "[encoded data removed]",
      "text/plain": [
       "<Figure size 432x288 with 1 Axes>"
      ]
     },
     "metadata": {
      "needs_background": "light"
     },
     "output_type": "display_data"
    },
    {
     "name": "stdout",
     "output_type": "stream",
     "text": [
      "\n",
      "Visualização dos valores no atributo rt1:\n"
     ]
    },
    {
     "data": {
      "image/png": "[encoded data removed]",
      "text/plain": [
       "<Figure size 432x288 with 1 Axes>"
      ]
     },
     "metadata": {
      "needs_background": "light"
     },
     "output_type": "display_data"
    },
    {
     "name": "stdout",
     "output_type": "stream",
     "text": [
      "\n",
      "Visualização dos valores no atributo rt4:\n"
     ]
    },
    {
     "data": {
      "image/png": "[encoded data removed]",
      "text/plain": [
       "<Figure size 432x288 with 1 Axes>"
      ]
     },
     "metadata": {
      "needs_background": "light"
     },
     "output_type": "display_data"
    },
    {
     "name": "stdout",
     "output_type": "stream",
     "text": [
      "\n",
      "Visualização dos valores no atributo Offline:\n"
     ]
    },
    {
     "data": {
      "image/png": "[encoded data removed]",
      "text/plain": [
       "<Figure size 432x288 with 1 Axes>"
      ]
     },
     "metadata": {
      "needs_background": "light"
     },
     "output_type": "display_data"
    },
    {
     "name": "stdout",
     "output_type": "stream",
     "text": [
      "\n",
      "Visualização dos valores no atributo Online:\n"
     ]
    },
    {
     "data": {
      "image/png": "[encoded data removed]",
      "text/plain": [
       "<Figure size 432x288 with 1 Axes>"
      ]
     },
     "metadata": {
      "needs_background": "light"
     },
     "output_type": "display_data"
    },
    {
     "name": "stdout",
     "output_type": "stream",
     "text": [
      "\n",
      "Visualização dos valores no atributo Other segment types:\n"
     ]
    },
    {
     "data": {
      "image/png": "[encoded data removed]",
      "text/plain": [
       "<Figure size 432x288 with 1 Axes>"
      ]
     },
     "metadata": {
      "needs_background": "light"
     },
     "output_type": "display_data"
    },
    {
     "name": "stdout",
     "output_type": "stream",
     "text": [
      "\n",
      "Visualização dos valores no atributo Canceled:\n"
     ]
    },
    {
     "data": {
      "image/png": "[encoded data removed]",
      "text/plain": [
       "<Figure size 432x288 with 1 Axes>"
      ]
     },
     "metadata": {
      "needs_background": "light"
     },
     "output_type": "display_data"
    }
   ],
   "source": [
    "# Função que gera o plot para cada outlier\n",
    "def plot_outliers(col):\n",
    "    print(f\"\\nVisualização dos valores no atributo {col}:\")\n",
    "    df.boxplot([col])\n",
    "    plt.show()\n",
    "\n",
    "# selecionam-se apenas as colunas numéricas\n",
    "columns = df.select_dtypes(include=np.number)\n",
    "\n",
    "for col in columns:\n",
    "    plot_outliers(col)"
   ]
  },
  {
   "cell_type": "markdown",
   "metadata": {},
   "source": [
    "Pode-se notar que para alguns atributos existe uma grande quantidade de outliers."
   ]
  },
  {
   "cell_type": "markdown",
   "metadata": {
    "id": "UlOiOCMpunrd"
   },
   "source": [
    "### PCA\n",
    "\n",
    "Uma vez que a dimensionalidade é relativamente grande, será utilizado o PCA para reduzir essa dimensionalidade para 10 variáveis, de forma a melhorar a performance dos algoritmos."
   ]
  },
  {
   "cell_type": "code",
   "execution_count": 26,
   "metadata": {
    "colab": {
     "base_uri": "https://localhost:8080/",
     "height": 491
    },
    "id": "BryXqAa3unrd",
    "outputId": "53e2277d-2d2e-4ff0-c09c-a72722233235"
   },
   "outputs": [
    {
     "name": "stdout",
     "output_type": "stream",
     "text": [
      "(36004, 23)\n",
      "(36004,)\n"
     ]
    },
    {
     "data": {
      "text/plain": [
       "<AxesSubplot:>"
      ]
     },
     "execution_count": 26,
     "metadata": {},
     "output_type": "execute_result"
    },
    {
     "data": {
      "image/png": "[encoded data removed]",
      "text/plain": [
       "<Figure size 432x288 with 2 Axes>"
      ]
     },
     "metadata": {
      "needs_background": "light"
     },
     "output_type": "display_data"
    }
   ],
   "source": [
    "from sklearn.decomposition import PCA, IncrementalPCA\n",
    "import seaborn as sns\n",
    "\n",
    "# redefinindo X e y com as versões balanceadas\n",
    "X, y = X_resampled, y_resampled\n",
    "\n",
    "print(X.shape)\n",
    "print(y.shape)\n",
    "\n",
    "# matriz de correlação das variáveis originais\n",
    "corr = pd.DataFrame(X).iloc[:,:].corr()\n",
    "sns.heatmap(corr)"
   ]
  },
  {
   "cell_type": "code",
   "execution_count": 27,
   "metadata": {
    "colab": {
     "base_uri": "https://localhost:8080/"
    },
    "id": "UobPYp7hunrf",
    "outputId": "49297d3a-5cce-41a2-91fa-c98980a0759d"
   },
   "outputs": [
    {
     "name": "stdout",
     "output_type": "stream",
     "text": [
      "(36004, 10)\n",
      "(36004, 10)\n"
     ]
    }
   ],
   "source": [
    "# principal component analysis\n",
    "pca = PCA(n_components=10)\n",
    "X_pca = pca.fit_transform(X)\n",
    "print(X_pca.shape)\n",
    "\n",
    "# incremental principal component analysis\n",
    "ipca = IncrementalPCA(n_components=10, batch_size=20)\n",
    "X_ipca = ipca.fit_transform(X)\n",
    "print(X_ipca.shape)"
   ]
  },
  {
   "cell_type": "code",
   "execution_count": 28,
   "metadata": {
    "colab": {
     "base_uri": "https://localhost:8080/",
     "height": 443
    },
    "id": "gm-bcyipunrf",
    "outputId": "45963e84-50f0-4bf5-e56b-96ca903d5bf0"
   },
   "outputs": [
    {
     "data": {
      "image/png": "[encoded data removed]",
      "text/plain": [
       "<Figure size 1296x432 with 3 Axes>"
      ]
     },
     "metadata": {
      "needs_background": "light"
     },
     "output_type": "display_data"
    }
   ],
   "source": [
    "plt.figure(figsize=(18, 6))\n",
    "colors = ['red', 'blue']\n",
    "\n",
    "n = X.shape[0]\n",
    "\n",
    "# plot dos dados originais\n",
    "plt.subplot(1, 3, 1)\n",
    "plt.title(\"Original\")\n",
    "for i in range(0, n, 50):\n",
    "    plt.scatter(X[i][0], X[i][1], c=colors[y[i]])\n",
    "\n",
    "# plot do PCA\n",
    "plt.subplot(1, 3, 2)\n",
    "plt.title(\"PCA\")\n",
    "for i in range(0, n, 50):\n",
    "    plt.scatter(X_pca[i][0], X_pca[i][1], c=colors[y[i]])\n",
    "\n",
    "# plot do ICA\n",
    "plt.subplot(1, 3, 3)\n",
    "plt.title(\"IPCA\")\n",
    "for i in range(0, n, 50):\n",
    "    plt.scatter(X_ipca[i][0], X_ipca[i][1], c=colors[y[i]])\n",
    "\n",
    "plt.show()"
   ]
  },
  {
   "cell_type": "markdown",
   "metadata": {
    "id": "MZWENq1Hunrg"
   },
   "source": [
    "## Técnicas Utilizadas\n",
    "\n",
    "O primeiro passo para classificar os dados é separar os conjuntos de treinamento e de teste."
   ]
  },
  {
   "cell_type": "code",
   "execution_count": 29,
   "metadata": {
    "colab": {
     "base_uri": "https://localhost:8080/"
    },
    "id": "hckPREBpunrg",
    "outputId": "9640ac49-9c2b-43a7-ac89-c22b09c5b16d"
   },
   "outputs": [
    {
     "name": "stdout",
     "output_type": "stream",
     "text": [
      "Conjunto de dados para treinamento: (25202, 23)\n",
      "Conjunto de rótulos para treinamento: (25202,)\n",
      "\n",
      "Conjunto de dados para teste: (10802, 23)\n",
      "Conjunto de rótulos para teste: (10802,)\n"
     ]
    }
   ],
   "source": [
    "from sklearn.model_selection import KFold, cross_val_score, train_test_split\n",
    "from sklearn.neighbors import KNeighborsClassifier\n",
    "from sklearn.naive_bayes import GaussianNB\n",
    "from sklearn.linear_model import LogisticRegression\n",
    "from sklearn.svm import SVC\n",
    "from sklearn import tree\n",
    "from sklearn.ensemble import RandomForestClassifier, BaggingClassifier, AdaBoostClassifier\n",
    "\n",
    "#gerando o conjunto de treinamento e o conjunto de teste\n",
    "X_train, X_test, y_train, y_test = train_test_split(X, y, test_size=0.3, shuffle=True)\n",
    "\n",
    "print(\"Conjunto de dados para treinamento:\", X_train.shape)\n",
    "print(\"Conjunto de rótulos para treinamento:\", y_train.shape)\n",
    "\n",
    "print(\"\\nConjunto de dados para teste:\", X_test.shape)\n",
    "print(\"Conjunto de rótulos para teste:\", y_test.shape)"
   ]
  },
  {
   "cell_type": "markdown",
   "metadata": {},
   "source": [
    "### Definindo o cross-validation\n",
    "\n",
    "Antes de classificar os dados, é importante definir o cross-validation para poder verificar a acurácia de cada classificador. Neste caso, será utilizada a técnica k-fold."
   ]
  },
  {
   "cell_type": "code",
   "execution_count": 30,
   "metadata": {
    "colab": {
     "base_uri": "https://localhost:8080/",
     "height": 105
    },
    "id": "SUgNiuu8unri",
    "outputId": "845c2fc6-f4f5-4578-aa73-3553cdb76c76"
   },
   "outputs": [],
   "source": [
    "# definição do cross-validation\n",
    "nFolds = 5\n",
    "kf = KFold(n_splits=nFolds, shuffle=True)"
   ]
  },
  {
   "cell_type": "markdown",
   "metadata": {
    "id": "BN_dLxeiunrh"
   },
   "source": [
    "### KNN\n",
    "\n",
    "KNN (K-Nearest Neighbors) é um algoritmo de aprendizado de máquina supervisionado usado para classificação e regressão. No KNN, o objetivo é encontrar o rótulo de classe (no caso da classificação) ou o valor numérico (no caso da regressão) de um ponto de dados desconhecido com base nos seus \"k\" vizinhos mais próximos no conjunto de dados de treinamento."
   ]
  },
  {
   "cell_type": "code",
   "execution_count": 31,
   "metadata": {
    "colab": {
     "base_uri": "https://localhost:8080/",
     "height": 105
    },
    "id": "SUgNiuu8unri",
    "outputId": "845c2fc6-f4f5-4578-aa73-3553cdb76c76"
   },
   "outputs": [
    {
     "name": "stdout",
     "output_type": "stream",
     "text": [
      "Acurácia com 3 K-NN: 0.8060 +/- 0.0056\n",
      "Acurácia com 7 K-NN: 0.8005 +/- 0.0045\n",
      "Acurácia com 11 K-NN: 0.7942 +/- 0.0077\n",
      "Acurácia com 21 K-NN: 0.7902 +/- 0.0079\n",
      "Acurácia com 31 K-NN: 0.7888 +/- 0.0048\n"
     ]
    }
   ],
   "source": [
    "# knn\n",
    "\n",
    "# 3 vizinhos mais próximos\n",
    "knn = KNeighborsClassifier(n_neighbors=3)\n",
    "knn.fit(X_train, y_train)\n",
    "scores = cross_val_score(knn, X_test, y_test, cv=kf)\n",
    "print('Acurácia com 3 K-NN: %0.4f +/- %0.4f' % (scores.mean(), scores.std()))\n",
    "\n",
    "# 5 vizinhos mais próximos\n",
    "knn = KNeighborsClassifier(n_neighbors=5)\n",
    "knn.fit(X_train, y_train)\n",
    "scores = cross_val_score(knn, X_test, y_test, cv=kf)\n",
    "print('Acurácia com 7 K-NN: %0.4f +/- %0.4f' % (scores.mean(), scores.std()))\n",
    "\n",
    "# 11 vizinhos mais próximos\n",
    "knn = KNeighborsClassifier(n_neighbors=11)\n",
    "knn.fit(X_train, y_train)\n",
    "scores = cross_val_score(knn, X_test, y_test, cv=kf)\n",
    "print('Acurácia com 11 K-NN: %0.4f +/- %0.4f' % (scores.mean(), scores.std()))\n",
    "\n",
    "# 21 vizinhos mais próximos\n",
    "knn = KNeighborsClassifier(n_neighbors=21)\n",
    "knn.fit(X_train, y_train)\n",
    "scores = cross_val_score(knn, X_test, y_test, cv=kf)\n",
    "print('Acurácia com 21 K-NN: %0.4f +/- %0.4f' % (scores.mean(), scores.std()))\n",
    "\n",
    "# 31 vizinhos mais próximos\n",
    "knn = KNeighborsClassifier(n_neighbors=31)\n",
    "knn.fit(X_train, y_train)\n",
    "scores = cross_val_score(knn, X_test, y_test, cv=kf)\n",
    "print('Acurácia com 31 K-NN: %0.4f +/- %0.4f' % (scores.mean(), scores.std()))"
   ]
  },
  {
   "cell_type": "markdown",
   "metadata": {},
   "source": [
    "Pode-se perceber que a acurácia aumentou até k=11, porém após isso ela permaneceu aproximadamente igual. Isso significa que não são necessários mais do que 11 vizinhos próximos para obter a acurácia máxima que se pode obter com KNN utilizando este dataset."
   ]
  },
  {
   "cell_type": "markdown",
   "metadata": {
    "id": "SUPiGJwiunri"
   },
   "source": [
    "### Naive Bayes\n",
    "\n",
    "O algoritmo Naive Bayes é um algoritmo usado principalmente para tarefas de classificação, embora possa ser usado para tarefas de regressão também. Ele é baseado no Teorema de Bayes, que descreve a probabilidade condicional de um evento ocorrer, dado que outro evento ocorreu.\n",
    "\n",
    "Naive Bayes é considerado \"naive\" (ingênuo) porque assume que as características são independentes umas das outras. Ou seja, ele assume que a presença ou ausência de uma característica não está relacionada à presença ou ausência de outras características."
   ]
  },
  {
   "cell_type": "code",
   "execution_count": 32,
   "metadata": {
    "colab": {
     "base_uri": "https://localhost:8080/",
     "height": 35
    },
    "id": "9ZMW6Gn5unrj",
    "outputId": "57ba89b9-ca6d-456a-db66-a7a418ed0189"
   },
   "outputs": [
    {
     "name": "stdout",
     "output_type": "stream",
     "text": [
      "Acurácia com Naive-Bayes: 0.6168 +/- 0.0198\n"
     ]
    }
   ],
   "source": [
    "# naive bayes\n",
    "nb = GaussianNB()\n",
    "nb.fit(X_train, y_train)\n",
    "scores = cross_val_score(nb, X_test, y_test, cv=kf)\n",
    "print('Acurácia com Naive-Bayes: %0.4f +/- %0.4f' % (scores.mean(), scores.std()))"
   ]
  },
  {
   "cell_type": "markdown",
   "metadata": {
    "id": "rvTmjqhbunrj"
   },
   "source": [
    "### SVM\n",
    "\n",
    "SVM (Support Vector Machine) é um algoritmo usado principalmente para tarefas de classificação, embora também possa ser usado para tarefas de regressão. O objetivo do SVM é encontrar o hiperplano que melhor separa as classes de dados, maximizando a margem entre elas.\n",
    "\n",
    "Aqui testaremos o SVM linear e dois tipos de SVM não-linear: RBF (radial basis function) e Polinomial."
   ]
  },
  {
   "cell_type": "code",
   "execution_count": 33,
   "metadata": {
    "colab": {
     "base_uri": "https://localhost:8080/",
     "height": 35
    },
    "id": "-FNOC3x9unrk",
    "outputId": "d13dc5cd-a030-4c84-c28e-2ec71599d5dc"
   },
   "outputs": [
    {
     "name": "stdout",
     "output_type": "stream",
     "text": [
      "Acurácia com SVM Linear: 0.7862 +/- 0.0095\n",
      "Acurácia com SVM RBF: 0.8116 +/- 0.0044\n",
      "Acurácia com SVM Poly: 0.8095 +/- 0.0038\n"
     ]
    }
   ],
   "source": [
    "# svm linear\n",
    "svm = SVC(kernel='linear')\n",
    "svm.fit(X_train, y_train)\n",
    "scores = cross_val_score(svm, X_test, y_test, cv=kf)\n",
    "print('Acurácia com SVM Linear: %0.4f +/- %0.4f' % (scores.mean(), scores.std()))\n",
    "\n",
    "# svm rbf\n",
    "svm = SVC(kernel='rbf')\n",
    "svm.fit(X_train, y_train)\n",
    "scores = cross_val_score(svm, X_test, y_test, cv=kf)\n",
    "print('Acurácia com SVM RBF: %0.4f +/- %0.4f' % (scores.mean(), scores.std()))\n",
    "\n",
    "# svm poly\n",
    "svm = SVC(kernel='poly', degree=3)\n",
    "svm.fit(X_train, y_train)\n",
    "scores = cross_val_score(svm, X_test, y_test, cv=kf)\n",
    "print('Acurácia com SVM Poly: %0.4f +/- %0.4f' % (scores.mean(), scores.std()))"
   ]
  },
  {
   "cell_type": "markdown",
   "metadata": {
    "id": "krkBtH2punrk"
   },
   "source": [
    "### Árvores de decisão\n",
    "\n",
    "Árvores de decisão são um algoritmo de aprendizado de máquina supervisionado usado para tarefas de classificação e regressão. Esses algoritmos constroem um modelo de decisão em forma de árvore, em que cada nó interno representa um teste em um atributo, cada ramo representa o resultado do teste e cada folha representa uma decisão ou um valor de saída.\n",
    "\n",
    "Aqui serão testadas as árvores de decisão Gini e Entropy."
   ]
  },
  {
   "cell_type": "code",
   "execution_count": 34,
   "metadata": {
    "colab": {
     "base_uri": "https://localhost:8080/",
     "height": 35
    },
    "id": "aQKab2wNunrl",
    "outputId": "7b900b31-205f-484a-d641-5f4b723139a6"
   },
   "outputs": [
    {
     "name": "stdout",
     "output_type": "stream",
     "text": [
      "Acurácia com Gini: 0.8593 +/- 0.0054\n",
      "Acurácia com Entropy: 0.8669 +/- 0.0029\n"
     ]
    }
   ],
   "source": [
    "# árvore de decisão gini\n",
    "dct = tree.DecisionTreeClassifier()\n",
    "dct.fit(X_train, y_train)\n",
    "scores = cross_val_score(dct, X, y, cv=kf)\n",
    "print('Acurácia com Gini: %0.4f +/- %0.4f' % (scores.mean(), scores.std())) \n",
    "\n",
    "# árvore de decisão entropy\n",
    "dct = tree.DecisionTreeClassifier(criterion='entropy')\n",
    "dct.fit(X_train, y_train)\n",
    "scores = cross_val_score(dct, X, y, cv=kf)\n",
    "print('Acurácia com Entropy: %0.4f +/- %0.4f' % (scores.mean(), scores.std())) "
   ]
  },
  {
   "cell_type": "markdown",
   "metadata": {
    "id": "FsopI0-Xunrm"
   },
   "source": [
    "### Ensembles"
   ]
  },
  {
   "cell_type": "markdown",
   "metadata": {},
   "source": [
    "#### Random forest\n",
    "\n",
    "Random Forest é um algoritmo de aprendizado de máquina supervisionado que combina várias árvores de decisão para criar um modelo de classificação ou regressão mais robusto e preciso. É um dos algoritmos de ensemble learning mais populares e eficazes.\n",
    "\n",
    "O funcionamento do Random Forest é baseado em uma técnica chamada bootstrap aggregating (ou bagging). Nessa técnica, várias amostras aleatórias são criadas a partir do conjunto de dados original e uma árvore de decisão é construída a partir de cada amostra. Cada árvore de decisão é treinada com um subconjunto aleatório dos atributos disponíveis. Essa aleatorização ajuda a evitar o overfitting e aumentar a diversidade entre as árvores."
   ]
  },
  {
   "cell_type": "code",
   "execution_count": 35,
   "metadata": {},
   "outputs": [
    {
     "name": "stdout",
     "output_type": "stream",
     "text": [
      "Acurácia Random Forest: 0.8098 +/- 0.0041\n"
     ]
    }
   ],
   "source": [
    "# random forest\n",
    "rf = RandomForestClassifier(n_estimators=100, criterion='gini', max_depth=4)\n",
    "rf.fit(X_train, y_train)\n",
    "scores = cross_val_score(rf, X_test, y_test, cv=kf)\n",
    "print('Acurácia Random Forest: %0.4f +/- %0.4f' % (scores.mean(), scores.std())) "
   ]
  },
  {
   "cell_type": "markdown",
   "metadata": {},
   "source": [
    "#### Adaboost\n",
    "\n",
    "AdaBoost (Adaptive Boosting) é um algoritmo de aprendizado de máquina supervisionado que visa melhorar a precisão de modelos de aprendizado de máquina fracos, combinando-os em um modelo forte. Ele é um exemplo de um algoritmo de boosting, que tenta melhorar a precisão de modelos mais simples e fracos combinando-os em um modelo mais complexo e preciso.\n",
    "\n",
    "O funcionamento do AdaBoost é baseado em uma técnica de ponderação, em que as amostras de treinamento são ponderadas de acordo com o desempenho dos modelos fracos. No início, todas as amostras têm o mesmo peso. O algoritmo então treina um modelo fraco em todas as amostras e calcula sua taxa de erro. As amostras que foram classificadas incorretamente pelo modelo fraco são ponderadas mais pesadamente para o próximo modelo fraco, enquanto as amostras que foram classificadas corretamente são ponderadas menos pesadamente. O processo é repetido várias vezes, com cada modelo fraco treinado em amostras ponderadas de forma diferente. No final, os modelos fracos são combinados em um modelo forte usando um esquema de votação ponderado."
   ]
  },
  {
   "cell_type": "code",
   "execution_count": 36,
   "metadata": {},
   "outputs": [
    {
     "name": "stdout",
     "output_type": "stream",
     "text": [
      "Acurácia Bagging com SVC: 0.8134 +/- 0.0051\n",
      "Acurácia Pasting com SVC: 0.8111 +/- 0.0089\n",
      "Acurácia Ada Boost: 0.8200 +/- 0.0065\n"
     ]
    }
   ],
   "source": [
    "# bagging\n",
    "bag = BaggingClassifier(estimator=SVC(), n_estimators=10)\n",
    "bag.fit(X_train, y_train)\n",
    "scores = cross_val_score(bag, X_test, y_test, cv=kf)\n",
    "print('Acurácia Bagging com SVC: %0.4f +/- %0.4f' % (scores.mean(), scores.std())) \n",
    "\n",
    "# pasting\n",
    "bag = BaggingClassifier(estimator=SVC(), n_estimators=10, bootstrap=False)\n",
    "bag.fit(X_train, y_train)\n",
    "scores = cross_val_score(bag, X_test, y_test, cv=kf)\n",
    "print('Acurácia Pasting com SVC: %0.4f +/- %0.4f' % (scores.mean(), scores.std())) \n",
    "\n",
    "# adaboost\n",
    "bag = AdaBoostClassifier(n_estimators=50)\n",
    "bag.fit(X_train, y_train)\n",
    "scores = cross_val_score(bag, X_test, y_test, cv=kf)\n",
    "print('Acurácia Ada Boost: %0.4f +/- %0.4f' % (scores.mean(), scores.std())) "
   ]
  },
  {
   "cell_type": "markdown",
   "metadata": {},
   "source": [
    "### Multilayer perceptron\n",
    "\n",
    "Um multilayer perceptron (MLP) é um tipo de rede neural artificial que consiste em múltiplas camadas de neurônios (unidades de processamento), cada uma conectada à camada anterior e posterior. Ele é uma das arquiteturas mais comuns de redes neurais e é frequentemente utilizado em tarefas de aprendizado supervisionado, como classificação e regressão.\n",
    "\n",
    "O MLP é composto por três tipos de camadas: a camada de entrada, que recebe os dados de entrada, a camada de saída, que produz a saída final da rede e uma ou mais camadas intermediárias, conhecidas como camadas ocultas, que processam os dados de entrada e geram uma representação intermediária para ajudar a rede a aprender características importantes dos dados.\n",
    "\n",
    "Cada neurônio em uma camada MLP está conectado a todos os neurônios na camada anterior e posterior por meio de pesos ajustáveis. Durante o treinamento, esses pesos são ajustados para minimizar a diferença entre as saídas previstas da rede e as saídas reais correspondentes. Isso é feito usando um algoritmo de aprendizado, como o backpropagation, que propaga o erro através da rede e atualiza os pesos de forma a minimizar a função de perda.\n",
    "\n",
    "O MLP tem sido amplamente utilizado em diversas aplicações, como reconhecimento de fala, processamento de imagem e processamento de linguagem natural, entre outras."
   ]
  },
  {
   "cell_type": "code",
   "execution_count": 37,
   "metadata": {},
   "outputs": [
    {
     "name": "stdout",
     "output_type": "stream",
     "text": [
      "Acurácia com Multilayer Perceptron: 0.8194 +/- 0.0095\n"
     ]
    }
   ],
   "source": [
    "from sklearn.neural_network import MLPClassifier\n",
    "\n",
    "# multilayer perceptron\n",
    "mlp = MLPClassifier(solver='lbfgs', alpha=1e-5, hidden_layer_sizes=(10, 5, 2), random_state=1, max_iter=5000)\n",
    "mlp.fit(X_train, y_train)\n",
    "\n",
    "scores = cross_val_score(mlp, X_test, y_test, cv=kf)\n",
    "print('Acurácia com Multilayer Perceptron: %0.4f +/- %0.4f' % (scores.mean(), scores.std()))"
   ]
  },
  {
   "cell_type": "markdown",
   "metadata": {},
   "source": [
    "### Extra trees\n",
    "\n",
    "Extra Trees (Extremely Randomized Trees) é um algoritmo de aprendizado de máquina que pertence à família de algoritmos de ensemble learning, juntamente com Random Forest e AdaBoost. É uma variação das árvores de decisão, na qual várias árvores de decisão são construídas a partir do conjunto de dados de treinamento e combinadas para formar um modelo mais preciso e robusto.\n",
    "\n",
    "A principal diferença entre o Extra Trees e outras variações de árvores de decisão, como o Random Forest, é o processo de divisão dos nós da árvore. Enquanto as árvores de decisão tradicionais selecionam aleatoriamente um subconjunto de atributos e calculam a melhor divisão possível para cada atributo selecionado, o Extra Trees seleciona aleatoriamente um subconjunto de atributos e faz uma divisão aleatória para cada um deles. Ou seja, as divisões são feitas aleatoriamente em vez de serem baseadas em algum critério específico. Isso ajuda a aumentar a diversidade entre as árvores de decisão e reduzir o overfitting."
   ]
  },
  {
   "cell_type": "code",
   "execution_count": 38,
   "metadata": {},
   "outputs": [
    {
     "name": "stdout",
     "output_type": "stream",
     "text": [
      "Acurácia com Extra Trees: 0.8712 +/- 0.0086\n"
     ]
    }
   ],
   "source": [
    "from sklearn.ensemble import ExtraTreesClassifier\n",
    "\n",
    "ext = ExtraTreesClassifier(n_estimators=100, random_state=0)\n",
    "ext.fit(X_train, y_train)\n",
    "\n",
    "scores = cross_val_score(ext, X_test, y_test, cv=kf)\n",
    "print('Acurácia com Extra Trees: %0.4f +/- %0.4f' % (scores.mean(), scores.std()))"
   ]
  },
  {
   "cell_type": "markdown",
   "metadata": {
    "id": "glxdDqpPunrn"
   },
   "source": [
    "## Interpretação dos resultados obtidos\n",
    "\n",
    "De todos os resultados obtidos, pode-se concluir que o melhor modelo foi o Extra Trees com 87% de precisão. Logo após vem as árvores de decisão Gini e Entropy, com 86% cada. Sendo assim, esses foram os melhores modelos para classificar os dados deste dataset e tentar prever se um hóspede irá cancelar sua reserva. Por outro lado, o Naive Bayes foi o pior modelo, com apenas 64% de acurácia."
   ]
  },
  {
   "cell_type": "markdown",
   "metadata": {
    "id": "dLZ_bAiNunrn"
   },
   "source": [
    "## Conclusão\n",
    "\n",
    "Cada dataset tem necessidades diferentes conforme os dados inclusos nele, seu tamanho e quantidade de variáveis, entre outros aspectos. Este dataset, por exemplo, possuia muitos dados redundantes inicialmente, o que poderia ter causado uma piora considerável de performance ao rodar os algoritmos de classificação, ou mesmo o PCA. Por outro lado, não haviam dados ausentes, o que facilitou um pouco do trabalho de pré-processamento. Além disso, o dataset possui uma grande quantidade de outliers, porém ainda assim foi possível obter uma boa acurácia com alguns modelos."
   ]
  },
  {
   "cell_type": "markdown",
   "metadata": {
    "id": "9fo2Rjkzunro"
   },
   "source": [
    "## Apêndice\n",
    "\n",
    "### Um novo método de detecção de água envenenada usando tecnologia Wi-Fi incorporada a smartphones e algoritmos de aprendizado de máquina\n",
    "\n",
    "Neste artigo, foram utilizadas as técnicas SVM, KNN, LSTM e AdaBoost.\n",
    "\n",
    "#### KNN\n",
    "\n",
    "KNN (K-Nearest Neighbors) é um algoritmo de aprendizado de máquina supervisionado usado para classificação e regressão. No KNN, o objetivo é encontrar o rótulo de classe (no caso da classificação) ou o valor numérico (no caso da regressão) de um ponto de dados desconhecido com base nos seus \"k\" vizinhos mais próximos no conjunto de dados de treinamento.\n",
    "\n",
    "O algoritmo KNN funciona da seguinte maneira:\n",
    "\n",
    "1. Calcule a distância entre o ponto de dados desconhecido e todos os pontos de dados no conjunto de treinamento.\n",
    "2. Selecione os \"k\" pontos de dados mais próximos do ponto de dados desconhecido com base na distância calculada.\n",
    "3. Para classificação, determine a classe mais frequente entre os \"k\" vizinhos mais próximos e atribua essa classe ao ponto de dados desconhecido. Para regressão, calcule a média dos valores das \"k\" amostras mais próximas e atribua esse valor ao ponto de dados desconhecido.\n",
    "\n",
    "O KNN é um algoritmo simples e fácil de implementar, mas pode ser computacionalmente intensivo quando usado em grandes conjuntos de dados, pois é necessário calcular a distância entre cada ponto de dados desconhecido e todos os pontos de dados no conjunto de treinamento.\n",
    "\n",
    "#### SVM\n",
    "\n",
    "SVM (Support Vector Machine) é um algoritmo de aprendizado de máquina supervisionado usado principalmente para tarefas de classificação, embora também possa ser usado para tarefas de regressão. O objetivo do SVM é encontrar o hiperplano que melhor separa as classes de dados, maximizando a margem entre elas.\n",
    "\n",
    "O hiperplano é uma linha que separa as classes de dados. Para dados bidimensionais, o hiperplano é uma linha; para dados tridimensionais, o hiperplano é um plano e, para dados com mais dimensões, o hiperplano é um espaço. O SVM busca encontrar o hiperplano que tem a maior margem possível entre as classes.\n",
    "\n",
    "A margem é a distância perpendicular do hiperplano às observações mais próximas de cada classe. O SVM encontra o hiperplano que maximiza essa distância, ou seja, que maximiza a margem. Esse hiperplano é chamado de hiperplano de margem máxima.\n",
    "\n",
    "O SVM usa vetores de suporte para definir o hiperplano de margem máxima. Os vetores de suporte são os pontos de dados mais próximos do hiperplano de margem máxima. Eles são usados para calcular o hiperplano de margem máxima e, portanto, são importantes para a classificação de novos pontos de dados.\n",
    "\n",
    "O SVM também usa kernels para transformar os dados de entrada em um espaço de recursos de alta dimensão. Isso permite que o SVM encontre um hiperplano de margem máxima mesmo quando os dados não são linearmente separáveis em sua forma original.\n",
    "\n",
    "O SVM é usado em muitas aplicações, incluindo classificação de imagens, detecção de fraudes, diagnóstico médico e análise de sentimentos. Ele é conhecido por sua eficácia em conjuntos de dados de alta dimensionalidade e por sua capacidade de lidar com dados não linearmente separáveis.\n",
    "\n",
    "Existem três tipos principais de SVM:\n",
    "\n",
    "1. SVM de margem rígida (Hard Margin SVM): Este tipo de SVM é usado quando as classes são linearmente separáveis, ou seja, podem ser separadas por um hiperplano sem erros. Nesse caso, o objetivo do SVM é encontrar um hiperplano de margem máxima que separa as classes sem cometer erros.\n",
    "2. SVM de margem suave (Soft Margin SVM): Este tipo de SVM é usado quando as classes não são linearmente separáveis e alguns erros de classificação são permitidos. Nesse caso, o objetivo do SVM é encontrar o hiperplano de margem máxima que separa as classes com o menor número possível de erros.\n",
    "3. SVM não linear (Kernel SVM): Este tipo de SVM é usado quando as classes não podem ser separadas por um hiperplano linear. Nesse caso, o SVM usa uma função kernel para mapear os dados de entrada para um espaço de recursos de alta dimensão, onde um hiperplano de margem máxima pode ser encontrado. Os tipos de funções kernel mais comuns são o kernel polinomial, o kernel radial basis function (RBF) e o kernel sigmoide.\n",
    "\n",
    "Cada tipo de SVM tem suas vantagens e desvantagens, e a escolha do tipo de SVM depende do problema em questão e das características dos dados.\n",
    "\n",
    "#### LSTM\n",
    "\n",
    "LSTM (Long Short-Term Memory) é uma arquitetura de rede neural recorrente (RNN) em Machine Learning, projetada para resolver o problema de desvanecimento do gradiente, que é comum em RNNs convencionais.\n",
    "\n",
    "As LSTMs são capazes de aprender a longo prazo e capturar dependências temporais em sequências de dados, tornando-se uma escolha popular para tarefas de processamento de linguagem natural, como tradução automática, reconhecimento de voz, análise de sentimento e geração de texto.\n",
    "\n",
    "A arquitetura da LSTM inclui unidades de memória que permitem que a rede neural mantenha informações relevantes em diferentes etapas de tempo. Isso é feito através do uso de portas que controlam o fluxo de informações e ajudam a decidir quais informações são importantes para manter e quais devem ser descartadas.\n",
    "\n",
    "Em resumo, as LSTMs são uma variante das redes neurais recorrentes que superam algumas das limitações das RNNs convencionais, permitindo o aprendizado a longo prazo de dependências temporais em dados sequenciais.\n",
    "\n",
    "#### AdaBoost\n",
    "\n",
    "AdaBoost (Adaptive Boosting) é um algoritmo de aprendizado de máquina supervisionado que visa melhorar a precisão de modelos de aprendizado de máquina fracos, combinando-os em um modelo forte. Ele é um exemplo de um algoritmo de boosting, que tenta melhorar a precisão de modelos mais simples e fracos combinando-os em um modelo mais complexo e preciso.\n",
    "\n",
    "O funcionamento do AdaBoost é baseado em uma técnica de ponderação, em que as amostras de treinamento são ponderadas de acordo com o desempenho dos modelos fracos. No início, todas as amostras têm o mesmo peso. O algoritmo então treina um modelo fraco em todas as amostras e calcula sua taxa de erro. As amostras que foram classificadas incorretamente pelo modelo fraco são ponderadas mais pesadamente para o próximo modelo fraco, enquanto as amostras que foram classificadas corretamente são ponderadas menos pesadamente. O processo é repetido várias vezes, com cada modelo fraco treinado em amostras ponderadas de forma diferente.\n",
    "\n",
    "No final, os modelos fracos são combinados em um modelo forte usando um esquema de votação ponderado. Cada modelo fraco é atribuído um peso com base em sua precisão e amostras mal classificadas pelos modelos fracos com menor precisão têm um peso maior na votação final.\n",
    "\n",
    "O AdaBoost é eficaz para problemas de classificação e regressão com conjuntos de dados complexos e desbalanceados. Ele é especialmente útil para conjuntos de dados com muitas variáveis, pois pode ajudar a identificar as variáveis mais importantes para o problema em questão. No entanto, o AdaBoost é suscetível a overfitting se os modelos fracos forem muito complexos ou se houver muito ruído nos dados.\n",
    "\n",
    "### CatBoost\n",
    "\n",
    "Neste estudo, foi utilizado gradient boosting em árvores de decisão, com técnicas de regularização e prevenção de overfitting.\n",
    "\n",
    "#### Gradient Boosting\n",
    "\n",
    "Gradient Boosting é uma técnica de aprendizado de máquina baseada em árvores de decisão que é usada para resolver problemas de regressão e classificação. É uma das técnicas mais populares em competições de ciência de dados e é frequentemente usada em problemas de aprendizado de máquina de alta complexidade.\n",
    "\n",
    "A técnica de Gradient Boosting funciona criando uma sequência de modelos preditivos, onde cada modelo é treinado para prever a diferença entre a previsão atual e a verdadeira resposta. Essa diferença é chamada de \"resíduo\". Os modelos são adicionados em sequência para corrigir os erros do modelo anterior, com cada modelo tentando prever os resíduos do modelo anterior.\n",
    "\n",
    "A abordagem de Gradient Boosting utiliza o gradiente descendente para minimizar a função de perda ao longo do processo de treinamento. Durante o processo de treinamento, a função de perda é avaliada para determinar quão bem o modelo está ajustando os dados. O objetivo é minimizar a função de perda, encontrando os parâmetros do modelo que melhor se ajustam aos dados.\n",
    "\n",
    "A técnica de Gradient Boosting é muito flexível e pode ser usada com diferentes tipos de modelos base, como árvores de decisão, regressão linear, redes neurais, entre outros. Além disso, pode ser usada para resolver problemas de regressão, classificação e outros problemas de aprendizado de máquina.\n",
    "\n",
    "#### Árvores de decisão\n",
    "\n",
    "Árvores de decisão são um algoritmo de aprendizado de máquina supervisionado usado para tarefas de classificação e regressão. Esses algoritmos constroem um modelo de decisão em forma de árvore, em que cada nó interno representa um teste em um atributo, cada ramo representa o resultado do teste e cada folha representa uma decisão ou um valor de saída.\n",
    "\n",
    "Na construção da árvore, o algoritmo seleciona o atributo que melhor separa as classes ou que melhor explica a variação nos dados de saída, e usa esse atributo como a raiz da árvore. Em seguida, o algoritmo divide o conjunto de dados em subconjuntos com base nos valores do atributo escolhido e continua a construção da árvore recursivamente para cada subconjunto.\n",
    "\n",
    "Ao classificar um novo exemplo, o algoritmo percorre a árvore a partir da raiz, seguindo o ramo correspondente ao valor do atributo do exemplo e descendo até chegar a uma folha que contém a classe prevista para esse exemplo.\n",
    "\n",
    "As árvores de decisão têm várias vantagens, incluindo a interpretabilidade e facilidade de visualização do modelo, a capacidade de lidar com dados faltantes e a capacidade de lidar com dados categóricos e numéricos. No entanto, as árvores de decisão podem sofrer de overfitting, especialmente quando são muito profundas e complexas, o que pode levar a uma baixa capacidade de generalização do modelo para novos dados.\n",
    "\n",
    "### Um Estudo Sobre a Predição da Recidiva de Câncer Usando Técnicas de Aprendizado de Máquina\n",
    "\n",
    "Neste artigo, foram utilizadas as técnicas Naive Bayes e SVM. Uma vez que o SVM já foi descrito neste apêndice, aqui será descrita apenas a técnica Naive Bayes.\n",
    "\n",
    "#### Naive Bayes\n",
    "\n",
    "O algoritmo Naive Bayes é um algoritmo de aprendizado de máquina supervisionado usado principalmente para tarefas de classificação, embora possa ser usado para tarefas de regressão também. Ele é baseado no Teorema de Bayes, que descreve a probabilidade condicional de um evento ocorrer, dado que outro evento ocorreu.\n",
    "\n",
    "Naive Bayes é considerado \"naive\" (ingênuo) porque assume que as características são independentes umas das outras. Ou seja, ele assume que a presença ou ausência de uma característica não está relacionada à presença ou ausência de outras características. Embora essa suposição nem sempre seja verdadeira, Naive Bayes é uma técnica muito poderosa e simples que funciona surpreendentemente bem em muitas situações do mundo real.\n",
    "\n",
    "O algoritmo Naive Bayes funciona da seguinte maneira:\n",
    "\n",
    "1. Treinar o modelo: O algoritmo usa um conjunto de treinamento para aprender as probabilidades de cada classe e cada valor de característica. Para isso, ele calcula as frequências de cada classe e cada valor de característica no conjunto de treinamento.\n",
    "2. Calcular as probabilidades condicionais: Uma vez que o modelo foi treinado, o algoritmo pode usar as frequências de cada classe e cada valor de característica para calcular as probabilidades condicionais de uma classe dada as características observadas.\n",
    "3. Prever a classe: Quando um novo ponto de dados é fornecido, o algoritmo calcula a probabilidade condicional de cada classe dada as características do ponto de dados e escolhe a classe com a maior probabilidade.\n",
    "\n",
    "O Naive Bayes é usado em muitas aplicações, incluindo análise de sentimento, filtragem de spam, categorização de documentos e detecção de fraudes. Ele é conhecido por sua simplicidade, facilidade de uso e eficiência computacional."
   ]
  }
 ],
 "metadata": {
  "colab": {
   "provenance": []
  },
  "kernelspec": {
   "display_name": "Python 3",
   "language": "python",
   "name": "python3"
  },
  "language_info": {
   "codemirror_mode": {
    "name": "ipython",
    "version": 3
   },
   "file_extension": ".py",
   "mimetype": "text/x-python",
   "name": "python",
   "nbconvert_exporter": "python",
   "pygments_lexer": "ipython3",
   "version": "3.8.10"
  }
 },
 "nbformat": 4,
 "nbformat_minor": 1
}
